{
  "nbformat": 4,
  "nbformat_minor": 0,
  "metadata": {
    "colab": {
      "name": "Estrutura Sequencial.ipynb",
      "provenance": [],
      "collapsed_sections": [],
      "include_colab_link": true
    },
    "kernelspec": {
      "name": "python3",
      "display_name": "Python 3"
    },
    "language_info": {
      "name": "python"
    }
  },
  "cells": [
    {
      "cell_type": "markdown",
      "metadata": {
        "id": "view-in-github",
        "colab_type": "text"
      },
      "source": [
        "<a href=\"https://colab.research.google.com/github/dissonpontes/Data-Analysis-Practice/blob/master/AfroDev_Estrutura_Sequencial.ipynb\" target=\"_parent\"><img src=\"https://colab.research.google.com/assets/colab-badge.svg\" alt=\"Open In Colab\"/></a>"
      ]
    },
    {
      "cell_type": "markdown",
      "metadata": {
        "id": "s3h4XTy42l6y"
      },
      "source": [
        "##Estrutura Sequencial"
      ]
    },
    {
      "cell_type": "markdown",
      "metadata": {
        "id": "xiXySkgH7dwe"
      },
      "source": [
        "**Faça um Programa que peça um número e então mostre a mensagem:**\n",
        "\n",
        "#####O número informado foi [número]."
      ]
    },
    {
      "cell_type": "code",
      "metadata": {
        "id": "rlRavVZi8bS0",
        "colab": {
          "base_uri": "https://localhost:8080/"
        },
        "outputId": "d5b85d61-8751-4121-adb8-9034ef2b1c8b"
      },
      "source": [
        "valor = input()\n",
        "print(\"O número informado {}\".format(valor))"
      ],
      "execution_count": 1,
      "outputs": [
        {
          "output_type": "stream",
          "name": "stdout",
          "text": [
            "1\n",
            "O número informado 1\n"
          ]
        }
      ]
    },
    {
      "cell_type": "markdown",
      "metadata": {
        "id": "_Kl-2zy-8cNv"
      },
      "source": [
        "**Faça um Programa que peça dois números e imprima a soma.**"
      ]
    },
    {
      "cell_type": "code",
      "metadata": {
        "id": "CJlgEdLe3KLC",
        "colab": {
          "base_uri": "https://localhost:8080/"
        },
        "outputId": "bc4e48df-0ec7-431b-c161-850bcc7f9ef5"
      },
      "source": [
        "num_1 = float(input(\"Digite o primeiro numero: \"))\n",
        "num_2 = float(input(\"Digite o segundo numero: \"))\n",
        "\n",
        "print(\"A soma de {} e {} é igual a {}\".format(num_1, num_2, num_1 + num_2))"
      ],
      "execution_count": 2,
      "outputs": [
        {
          "output_type": "stream",
          "name": "stdout",
          "text": [
            "Digite o primeiro numero: 20\n",
            "Digite o segundo numero: 30\n",
            "A soma de 20.0 e 30.0 é igual a 50.0\n"
          ]
        }
      ]
    },
    {
      "cell_type": "markdown",
      "metadata": {
        "id": "asSOCkv48hsr"
      },
      "source": [
        "**Faça um Programa que peça as 4 notas bimestrais e mostre a média.**"
      ]
    },
    {
      "cell_type": "code",
      "metadata": {
        "id": "q4BgyRbOR8xW",
        "colab": {
          "base_uri": "https://localhost:8080/"
        },
        "outputId": "76ffd503-449a-46eb-c623-e2e3a87ec01f"
      },
      "source": [
        "num_1 = float(input(\"Digite a primeira nota: \"))\n",
        "num_2 = float(input(\"Digite a segunda nota: \"))\n",
        "num_3 = float(input(\"Digite a terceira nota: \"))\n",
        "num_4 = float(input(\"Digite a quarta nota: \"))\n",
        "\n",
        "print(\"A média das quatro notas digitadas é igual a {}\".format((num_1 + num_2 + num_3 + num_4)/4))"
      ],
      "execution_count": 3,
      "outputs": [
        {
          "output_type": "stream",
          "name": "stdout",
          "text": [
            "Digite a primeira nota: 30\n",
            "Digite a segunda nota: 40\n",
            "Digite a terceira nota: 50\n",
            "Digite a quarta nota: 40\n",
            "A média das quatro notas digitadas é igual a 40.0\n"
          ]
        }
      ]
    },
    {
      "cell_type": "markdown",
      "metadata": {
        "id": "ykRUV1Id8l8q"
      },
      "source": [
        "**Faça um Programa que converta metros para centímetros.**"
      ]
    },
    {
      "cell_type": "code",
      "metadata": {
        "id": "BHZPAdvt2aAq",
        "colab": {
          "base_uri": "https://localhost:8080/"
        },
        "outputId": "df1c36f6-1612-4f94-fed2-3211fd3c6305"
      },
      "source": [
        "metros = int(input(\"Digite um valor em metros: \"))\n",
        "print(\"{} metros é equivlente a {} centímetros!\".format(metros, metros*100))"
      ],
      "execution_count": 4,
      "outputs": [
        {
          "output_type": "stream",
          "name": "stdout",
          "text": [
            "Digite um valor em metros: 5\n",
            "5 metros é equivlente a 500 centímetros!\n"
          ]
        }
      ]
    },
    {
      "cell_type": "markdown",
      "metadata": {
        "id": "H2UfEr398p_N"
      },
      "source": [
        "**Faça um Programa que peça o raio de um círculo, calcule e mostre sua área.**"
      ]
    },
    {
      "cell_type": "code",
      "metadata": {
        "id": "Fu1UfLa92p_O",
        "colab": {
          "base_uri": "https://localhost:8080/"
        },
        "outputId": "e756d79c-7960-4000-b83f-668bee21aed8"
      },
      "source": [
        "raio = int(input(\"Determine o raio do circulo: \"))\n",
        "print(\"A área do círculo de raio {} é igual a {}\".format(raio, 3.14*raio**2))"
      ],
      "execution_count": 5,
      "outputs": [
        {
          "output_type": "stream",
          "name": "stdout",
          "text": [
            "Determine o raio do circulo: 9\n",
            "A área do círculo de raio 9 é igual a 254.34\n"
          ]
        }
      ]
    },
    {
      "cell_type": "markdown",
      "metadata": {
        "id": "vO9okcSq8txf"
      },
      "source": [
        "**Faça um Programa que calcule a área de um quadrado, em seguida mostre o dobro desta área para o usuário.**"
      ]
    },
    {
      "cell_type": "code",
      "metadata": {
        "id": "IrRGvkdl2sQ7",
        "colab": {
          "base_uri": "https://localhost:8080/"
        },
        "outputId": "781171ab-6abf-45fb-a526-972d3c4330ab"
      },
      "source": [
        "lado = int(input(\"Digite o lado do quadrado (em cm): \"))\n",
        "print(\"A área do quadradro de lado {} cm é igual a {} cm². O dobro dessa área é igual a {} cm²\".format(lado, lado*lado, lado**2))"
      ],
      "execution_count": 6,
      "outputs": [
        {
          "output_type": "stream",
          "name": "stdout",
          "text": [
            "Digite o lado do quadrado (em cm): 9\n",
            "A área do quadradro de lado 9 cm é igual a 81 cm². O dobro dessa área é igual a 81 cm²\n"
          ]
        }
      ]
    },
    {
      "cell_type": "markdown",
      "metadata": {
        "id": "eQjAPxZV9Y_U"
      },
      "source": [
        "**Faça um Programa que pergunte quanto você ganha por hora e o número de horas trabalhadas no mês. Calcule e mostre o total do seu salário no referido mês.**"
      ]
    },
    {
      "cell_type": "code",
      "metadata": {
        "id": "Y0rYrzfh9Xw5",
        "colab": {
          "base_uri": "https://localhost:8080/"
        },
        "outputId": "324729a5-67e2-4590-ec1b-be5457953f4c"
      },
      "source": [
        "valor = float(input(\"Quanto você ganha por hora?: \"))\n",
        "horas = int(input(\"Quantas horas você trabalhou nesse mês?: \"))\n",
        "print(\"Você deve receber um salário de {} reais\".format(valor*horas))"
      ],
      "execution_count": 7,
      "outputs": [
        {
          "output_type": "stream",
          "name": "stdout",
          "text": [
            "Quanto você ganha por hora?: 56\n",
            "Quantas horas você trabalhou nesse mês?: 8\n",
            "Você deve receber um salário de 448.0 reais\n"
          ]
        }
      ]
    },
    {
      "cell_type": "markdown",
      "metadata": {
        "id": "rCvWU_do9eb7"
      },
      "source": [
        "**Faça um Programa que peça a temperatura em graus Fahrenheit, transforme e mostre a temperatura em graus Celsius.\n",
        "C = 5 * ((F-32) / 9).**"
      ]
    },
    {
      "cell_type": "code",
      "metadata": {
        "colab": {
          "base_uri": "https://localhost:8080/"
        },
        "id": "5P6mDho8TTb4",
        "outputId": "f0ffb9d7-a67a-43af-8636-76016bee864d"
      },
      "source": [
        "tempF = int(input(\"Digite uma temperatura em ºF: \"))\n",
        "tempC = (5 * (tempF - 32)/9)\n",
        "print(\"Essa temperauta equivale a {} ºC\".format(round(tempC,2)))"
      ],
      "execution_count": 15,
      "outputs": [
        {
          "output_type": "stream",
          "name": "stdout",
          "text": [
            "Digite uma temperatura em ºF: 497\n",
            "Essa temperauta equivale a 258.33 ºC\n"
          ]
        }
      ]
    },
    {
      "cell_type": "markdown",
      "metadata": {
        "id": "wuNSOcEU9q82"
      },
      "source": [
        "**Faça um Programa que peça a temperatura em graus Celsius, transforme e mostre em graus Fahrenheit.**"
      ]
    },
    {
      "cell_type": "code",
      "metadata": {
        "id": "jFV9yA3W9vPA",
        "colab": {
          "base_uri": "https://localhost:8080/"
        },
        "outputId": "1d787014-561c-425e-acd6-ee0024aa85c6"
      },
      "source": [
        "tempC = int(input(\"Digite uma temperatura em ºC: \"))\n",
        "tempF = (9 * tempC / 5) + 32\n",
        "print(\"Essa temperauta equivale a {} ºF\".format(round(tempF,2)))"
      ],
      "execution_count": 16,
      "outputs": [
        {
          "output_type": "stream",
          "name": "stdout",
          "text": [
            "Digite uma temperatura em ºC: 200\n",
            "Essa temperauta equivale a 392.0 ºF\n"
          ]
        }
      ]
    },
    {
      "cell_type": "markdown",
      "metadata": {
        "id": "rHenay-u9wSe"
      },
      "source": [
        "**Faça um Programa que peça 2 números inteiros e um número real. Calcule e mostre:**\n",
        "\n",
        "1. Produto do dobro do primeiro com metade do segundo.\n",
        "2. Soma do triplo do primeiro com o terceiro.\n",
        "3. Terceiro elevado ao cubo.\n"
      ]
    },
    {
      "cell_type": "code",
      "metadata": {
        "id": "YnLaFKWE94sM",
        "colab": {
          "base_uri": "https://localhost:8080/"
        },
        "outputId": "1b3a17d7-6049-45d5-cf33-71d21eec49d4"
      },
      "source": [
        "inteiro = int(input(\"Digite um numero inteiro: \"))\n",
        "terceiro = int(input(\"Digite outro numero inteiro: \"))\n",
        "real = float(input(\"Digite um numero real: \"))\n",
        " \n",
        "print(\"Dobro do primeiro com metade do segundo = {}\".format(round(inteiro*2 + real/2), 2))\n",
        "print(\"Soma do triplo do primeiro com o terceiro = {}\".format(inteiro*3 + terceiro))\n",
        "print(\"Terceiro elevado ao cubo = {}\".format(terceiro**3))"
      ],
      "execution_count": 18,
      "outputs": [
        {
          "output_type": "stream",
          "name": "stdout",
          "text": [
            "Digite um numero inteiro: 5\n",
            "Digite outro numero inteiro: 6\n",
            "Digite um numero real: 8.9\n",
            "Dobro do primeiro com metade do segundo = 14\n",
            "Soma do triplo do primeiro com o terceiro = 21\n",
            "Terceiro elevado ao cubo = 216\n"
          ]
        }
      ]
    },
    {
      "cell_type": "markdown",
      "metadata": {
        "id": "Pp-vVCNC-M9n"
      },
      "source": [
        "**Tendo como dados de entrada a altura de uma pessoa, construa um algoritmo que calcule seu peso ideal, usando a seguinte fórmula: (72.7*altura) - 58**"
      ]
    },
    {
      "cell_type": "code",
      "metadata": {
        "id": "elpHlKHR-TEW",
        "colab": {
          "base_uri": "https://localhost:8080/"
        },
        "outputId": "ca30d495-8f59-496d-adf1-3d8e9fce5c24"
      },
      "source": [
        "altura = int(input(\"Digite sua altura: \"))\n",
        "peso_ideal = (72.7 * altura) - 58\n",
        "print(\"Seu peso ideal é {}\".format(peso_ideal))"
      ],
      "execution_count": 19,
      "outputs": [
        {
          "output_type": "stream",
          "name": "stdout",
          "text": [
            "Digite sua altura: 120\n",
            "Seu peso ideal é 8666.0\n"
          ]
        }
      ]
    },
    {
      "cell_type": "markdown",
      "metadata": {
        "id": "9DDiGIya-Tu3"
      },
      "source": [
        "**Tendo como dado de entrada a altura (h) de uma pessoa, construa um algoritmo que calcule seu peso ideal, utilizando as seguintes fórmulas:**\n",
        "1. Para homens: (72.7*h) - 58\n",
        "2. Para mulheres: (62.1*h) - 44.7"
      ]
    },
    {
      "cell_type": "code",
      "metadata": {
        "id": "Yj8Aur0f-fot",
        "colab": {
          "base_uri": "https://localhost:8080/"
        },
        "outputId": "b6b18d53-a1c2-4006-f110-9a773761af25"
      },
      "source": [
        "altura = int(input(\"Digite sua altura: \"))\n",
        "peso_ideal_homens = (72.7 * altura) - 58\n",
        "peso_ideal_mulher = (62.1 * altura) - 44.7\n",
        "print(\"Seu peso ideal é {} se você for homem e {} se você for mulher\".format(peso_ideal_homens, peso_ideal_mulher))"
      ],
      "execution_count": 21,
      "outputs": [
        {
          "output_type": "stream",
          "name": "stdout",
          "text": [
            "Digite sua altura: 45\n",
            "Seu peso ideal é 3213.5 se você for homem e 2749.8 se você for mulher\n"
          ]
        }
      ]
    },
    {
      "cell_type": "markdown",
      "metadata": {
        "id": "luMJHwGe-i8c"
      },
      "source": [
        "**João Papo-de-Pescador, homem de bem, comprou um microcomputador para controlar o rendimento diário de seu trabalho. Toda vez que ele traz um peso de peixes maior que o estabelecido pelo regulamento de pesca do estado de São Paulo (50 quilos) deve pagar uma multa de R$ 4,00 por quilo excedente. João precisa que você faça um programa que leia a variável peso (peso de peixes) e calcule o excesso. Gravar na variável excesso a quantidade de quilos além do limite e na variável multa o valor da multa que João deverá pagar. Imprima os dados do programa com as mensagens adequadas.**"
      ]
    },
    {
      "cell_type": "code",
      "metadata": {
        "id": "BOnYi7Ki-tlF",
        "colab": {
          "base_uri": "https://localhost:8080/"
        },
        "outputId": "a66e5f12-057a-4800-832b-04deee8dff2b"
      },
      "source": [
        "peso = float(input(\"Olá João! Digite o peso do peixe pescado (em quilos): \"))\n",
        "if peso > 50:\n",
        "  excesso = peso - 50\n",
        "  multa = excesso * 4\n",
        "  print(\"João, você deve pagar {} reais em multa porque o seu peixe excedeu em {} quilos acima do permitido pela legislação\".format(multa, excesso))\n",
        "else:\n",
        "  print(\"Boa João! Você não pagará multas por excesso de peso :)\")"
      ],
      "execution_count": 24,
      "outputs": [
        {
          "output_type": "stream",
          "name": "stdout",
          "text": [
            "Olá João! Digite o peso do peixe pescado (em quilos): 45\n",
            "Boa João! Você não pagará multas por excesso de peso :)\n"
          ]
        }
      ]
    },
    {
      "cell_type": "markdown",
      "metadata": {
        "id": "GOv4mU5T-uNy"
      },
      "source": [
        "**Faça um Programa que pergunte quanto você ganha por hora e o número de horas trabalhadas no mês. Calcule e mostre o total do seu salário no referido mês, sabendo-se que são descontados 11% para o Imposto de Renda, 8% para o INSS e 5% para o sindicato, faça um programa que nos dê:**\n",
        "\n",
        "1. salário bruto.\n",
        "2. quanto pagou ao INSS.\n",
        "3. quanto pagou ao sindicato.\n",
        "4. o salário líquido.\n",
        "5. calcule os descontos e o salário líquido, conforme a tabela abaixo:\n",
        "\n",
        "```\n",
        "+ Salário Bruto : R$\n",
        "- IR (11%) : R$\n",
        "- INSS (8%) : R$\n",
        "- Sindicato ( 5%) : R$\n",
        "= Salário Liquido : R$\n",
        "```\n",
        "*Obs.: Salário Bruto - Descontos = Salário Líquido.*\n"
      ]
    },
    {
      "cell_type": "code",
      "metadata": {
        "id": "BpJrcHmA_WeV",
        "colab": {
          "base_uri": "https://localhost:8080/"
        },
        "outputId": "1b5578b6-32ba-4a48-e15c-aa9b2ceeb924"
      },
      "source": [
        "valor_por_hora = float(input(\"Quanto você ganha por hora trabalhada? (em reais): \"))\n",
        "horas = int(input(\"Quantas horas você trabalhou no mês?: \"))\n",
        "salario = valor_por_hora*horas\n",
        "print(\"Seu salário bruto é {} reais\".format(salario))\n",
        "print(\"Você deve pagar ao IR 11% do seu salário, o que equivale a {} reais\".format(salario*0.11))\n",
        "print(\"Você também deve pagar ao INSS 8% do seu salário, o que equivale a {} reais\".format(salario*0.08))\n",
        "print(\"Você também deve contribuir com 5% do seu salário ao sindicado, o que equivale a {} reais\".format(salario*0.05))\n",
        "print(\"Seu salário líquido é de {} reais\".format(salario-(salario*0.11)-(salario*0.08)-(salario*0.05)))"
      ],
      "execution_count": 28,
      "outputs": [
        {
          "output_type": "stream",
          "name": "stdout",
          "text": [
            "Quanto você ganha por hora trabalhada? (em reais): 20\n",
            "Quantas horas você trabalhou no mês?: 80\n",
            "Seu salário bruto é 1600.0 reais\n",
            "Você deve pagar ao IR 11% do seu salário, o que equivale a 176.0 reais\n",
            "Você também deve pagar ao INSS 8% do seu salário, o que equivale a 128.0 reais\n",
            "Você também deve contribuir com 5% do seu salário ao sindicado, o que equivale a 80.0 reais\n",
            "Seu salário líquido é de 1216.0 reais\n"
          ]
        }
      ]
    },
    {
      "cell_type": "markdown",
      "metadata": {
        "id": "3wsz_2Tt_XIN"
      },
      "source": [
        "**Faça um programa para uma loja de tintas. O programa deverá pedir o tamanho em metros quadrados da área a ser pintada. Considere que a cobertura da tinta é de 1 litro para cada 3 metros quadrados e que a tinta é vendida em latas de 18 litros, que custam R$ 80,00. Informe ao usuário a quantidades de latas de tinta a serem compradas e o preço total.**"
      ]
    },
    {
      "cell_type": "code",
      "metadata": {
        "id": "sWHBxGcc_e9t",
        "colab": {
          "base_uri": "https://localhost:8080/"
        },
        "outputId": "93334e9c-1e46-4de4-ad74-3a1b886be1ac"
      },
      "source": [
        "area_parede = float(input(\"Qual a área da parede a ser pintada, em m²?: \"))\n",
        "litros = area_parede / 3\n",
        "latas = round((litros / 18), 1)\n",
        "valor = latas * 80\n",
        "print(\"Você deverá comprar {} latas de tinta que custará {} reais\".format(latas, valor))"
      ],
      "execution_count": 29,
      "outputs": [
        {
          "output_type": "stream",
          "name": "stdout",
          "text": [
            "Qual a área da parede a ser pintada, em m²?: 800\n",
            "Você deverá comprar 14.8 latas de tinta que custará 1184.0 reais\n"
          ]
        }
      ]
    },
    {
      "cell_type": "markdown",
      "metadata": {
        "id": "H32vYQcGAQV9"
      },
      "source": [
        "**Faça um programa que peça o tamanho de um arquivo para download (em MB) e a velocidade de um link de Internet (em Mbps), calcule e informe o tempo aproximado de download do arquivo usando este link (em minutos).**"
      ]
    },
    {
      "cell_type": "code",
      "metadata": {
        "id": "Ajfkz7TLAUIF",
        "colab": {
          "base_uri": "https://localhost:8080/"
        },
        "outputId": "a12b725d-a587-441f-f28a-c90237562117"
      },
      "source": [
        "tamanho = int(input(\"Determine o tamanho do arquivo em MB: \"))\n",
        "velocidade = int(input(\"Determine a velocidade da internet em MBps: \"))\n",
        "print(\"O tempo aproximado para download desse arquivo é de {} segundos\".format(tamanho / velocidade))"
      ],
      "execution_count": 30,
      "outputs": [
        {
          "output_type": "stream",
          "name": "stdout",
          "text": [
            "Determine o tamanho do arquivo em MB: 600\n",
            "Determine a velocidade da internet em MBps: 20\n",
            "O tempo aproximado para download desse arquivo é de 30.0 segundos\n"
          ]
        }
      ]
    }
  ]
}