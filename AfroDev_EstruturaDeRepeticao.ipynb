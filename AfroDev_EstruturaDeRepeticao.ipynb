{
  "nbformat": 4,
  "nbformat_minor": 0,
  "metadata": {
    "colab": {
      "name": "AfroDev_EstruturaDeRepeticao.ipynb",
      "provenance": [],
      "collapsed_sections": [],
      "include_colab_link": true
    },
    "kernelspec": {
      "name": "python3",
      "display_name": "Python 3"
    },
    "language_info": {
      "name": "python"
    }
  },
  "cells": [
    {
      "cell_type": "markdown",
      "metadata": {
        "id": "view-in-github",
        "colab_type": "text"
      },
      "source": [
        "<a href=\"https://colab.research.google.com/github/dissonpontes/Data-Analysis-Practice/blob/master/AfroDev_EstruturaDeRepeticao.ipynb\" target=\"_parent\"><img src=\"https://colab.research.google.com/assets/colab-badge.svg\" alt=\"Open In Colab\"/></a>"
      ]
    },
    {
      "cell_type": "markdown",
      "metadata": {
        "id": "vuwqepc2UEn1"
      },
      "source": [
        "#Estrutura de Repetição"
      ]
    },
    {
      "cell_type": "markdown",
      "metadata": {
        "id": "i0VWYDyXUJKa"
      },
      "source": [
        "**Faça um programa que peça uma nota, entre zero e dez. Mostre uma mensagem caso o valor seja inválido e continue pedindo até que o usuário informe um valor válido.**"
      ]
    },
    {
      "cell_type": "code",
      "metadata": {
        "id": "CnhWjyNlUEDz",
        "colab": {
          "base_uri": "https://localhost:8080/"
        },
        "outputId": "d92d9c52-abc8-477e-f93c-9b9f9440e225"
      },
      "source": [
        "numero = int(input(\"Digite um numero inteiro entre 0 e 10: \"))\n",
        "\n",
        "while (numero > 10) or (numero < 0):\n",
        "  print(\"O numero digitado está fora do intervalo! Digite novamente!: \")\n",
        "  numero = int(input(\"Digite um numero entre 0 e 10: \"))\n",
        "\n",
        "print(\"O número está dentro do intervalo!\")"
      ],
      "execution_count": null,
      "outputs": [
        {
          "output_type": "stream",
          "name": "stdout",
          "text": [
            "Digite um numero inteiro entre 0 e 10: 60\n",
            "O numero digitado está fora do intervalo! Digite novamente!: \n",
            "Digite um numero entre 0 e 10: -4\n",
            "O numero digitado está fora do intervalo! Digite novamente!: \n",
            "Digite um numero entre 0 e 10: 0\n",
            "O número está dentro do intervalo!\n"
          ]
        }
      ]
    },
    {
      "cell_type": "markdown",
      "metadata": {
        "id": "oDJTeGNYUMqc"
      },
      "source": [
        "**Faça um programa que leia um nome de usuário e a sua senha e não aceite a senha igual ao nome do usuário, mostrando uma mensagem de erro e voltando a pedir as informações.**"
      ]
    },
    {
      "cell_type": "code",
      "metadata": {
        "id": "XZToYXP2UPIp",
        "colab": {
          "base_uri": "https://localhost:8080/"
        },
        "outputId": "5e11ca0d-9c52-446b-8a8e-04e3342f5abd"
      },
      "source": [
        "x = True\n",
        "nome = input('Digite seu nome: ')\n",
        "while x:\n",
        "  senha = input(\"Determine uma senha alfabética: \")\n",
        "  if nome == senha:\n",
        "     print(\"A senha é igual ao seu nome! \")\n",
        "  else:\n",
        "    x = False\n",
        "print(\"Senha cadastrada!\" )"
      ],
      "execution_count": null,
      "outputs": [
        {
          "output_type": "stream",
          "name": "stdout",
          "text": [
            "Digite seu nome: abc\n",
            "Determine uma senha alfabética: abc\n",
            "A senha é igual ao seu nome! \n",
            "Determine uma senha alfabética: abc\n",
            "A senha é igual ao seu nome! \n",
            "Determine uma senha alfabética: cde\n",
            "Senha cadastrada!\n"
          ]
        }
      ]
    },
    {
      "cell_type": "markdown",
      "metadata": {
        "id": "UmsV2VroUPiX"
      },
      "source": [
        "**Faça um programa que leia e valide as seguintes informações:**\n",
        "1. Nome: maior que 3 caracteres;\n",
        "2. Idade: entre 0 e 150;\n",
        "3. Salário: maior que zero;\n",
        "4. Sexo: 'f' ou 'm';\n",
        "5. Estado Civil: 's', 'c', 'v', 'd';\n"
      ]
    },
    {
      "cell_type": "code",
      "metadata": {
        "id": "E8mZ4ZEPUbfk",
        "colab": {
          "base_uri": "https://localhost:8080/"
        },
        "outputId": "cf2c9911-682e-4fc9-add0-c54bb53f6c58"
      },
      "source": [
        "nome = input(\"Qual seu nome?: \")\n",
        "while (len(nome) <=  3):\n",
        "\tnome = input(\"Qual seu nome?: \")\n",
        "\n",
        "idade = int(input(\"Qual sua idade?: \"))\n",
        "while (idade > 150) or (idade < 0):\n",
        "\tidade = int(input(\"Qual sua idade?: \"))\n",
        "\t\n",
        "salario = float(input(\"Qual seu salário?: \"))\n",
        "while (salario < 0):\n",
        "\tsalario = float(input(\"Qual seu salário?: \"))\n",
        "\t\n",
        "sexo = input(\"Qual seu sexo? (f ou m): \").lower()\n",
        "while  sexo !=\"f\" and sexo!=\"m\" :\n",
        "\tsexo=str(input(\"Qual seu sexo? (f ou m): \")).lower()\n",
        "\t\n",
        "estado_civil = input(\"Qual seu estado civil? (s, c, v, d): \").lower()\n",
        "while (estado_civil != \"s\" and estado_civil != \"c\" and estado_civil != \"v\" and estado_civil != \"d\"):\n",
        "\testado_civil = input(\"Qual seu estado civil? (s, c, v, d): \").lower()"
      ],
      "execution_count": null,
      "outputs": [
        {
          "name": "stdout",
          "output_type": "stream",
          "text": [
            "Qual seu nome?: Anderson\n",
            "Qual sua idade?: 28\n",
            "Qual seu salário?: 2000\n",
            "Qual seu sexo? (f ou m): M\n",
            "Qual seu estado civil? (s, c, v, d): C\n"
          ]
        }
      ]
    },
    {
      "cell_type": "markdown",
      "metadata": {
        "id": "JBAu4aXEUsjV"
      },
      "source": [
        "**Supondo que a população de um país A seja da ordem de 80000 habitantes com uma taxa anual de crescimento de 3% e que a população de B seja 200000 habitantes com uma taxa de crescimento de 1.5%. Faça um programa que calcule e escreva o número de anos necessários para que a população do país A ultrapasse ou iguale a população do país B, mantidas as taxas de crescimento.**"
      ]
    },
    {
      "cell_type": "code",
      "metadata": {
        "id": "jnmSYL2DUwSw",
        "colab": {
          "base_uri": "https://localhost:8080/"
        },
        "outputId": "a4b45e6a-77e5-42c7-dc49-398eb8c7463b"
      },
      "source": [
        "pais_A = 80000\n",
        "taxa_A = 0.03\n",
        "pais_B = 200000\n",
        "taxa_B = 0.015\n",
        "anos = 0\n",
        "\n",
        "while pais_A < pais_B:\n",
        "  pais_A = pais_A + (pais_A * taxa_A)\n",
        "  pais_B = pais_B + (pais_B * taxa_B)\n",
        "  anos += 1\n",
        "\n",
        "print(\"O numero de anos para igualar as populações dos países é {}\".format(anos))"
      ],
      "execution_count": null,
      "outputs": [
        {
          "output_type": "stream",
          "name": "stdout",
          "text": [
            "O numero de anos para igualar as populações dos países é 63\n"
          ]
        }
      ]
    },
    {
      "cell_type": "markdown",
      "metadata": {
        "id": "8hxDsCgZUw25"
      },
      "source": [
        "**Altere o programa anterior permitindo ao usuário informar as populações e as taxas de crescimento iniciais. Valide a entrada e permita repetir a operação.**\n"
      ]
    },
    {
      "cell_type": "code",
      "metadata": {
        "id": "Ke22Q7nWU24X",
        "colab": {
          "base_uri": "https://localhost:8080/"
        },
        "outputId": "3d361fa4-c60c-45bc-eb1d-9faf89184c6c"
      },
      "source": [
        "pais_A = int(input(\"Informe a população do pais A: \"))\n",
        "taxa_A = (int(input(\"Informe a taxa de crescimento do pais A em %: \")) / 100)\n",
        "pais_B = int(input(\"Informe a população do pais B: \"))\n",
        "taxa_B = (int(input(\"Informe a taxa de crescimento do pais B em %: \")) / 100)\n",
        "anos = 0\n",
        "\n",
        "while pais_A < pais_B:\n",
        "  pais_A = pais_A + (pais_A * taxa_A)\n",
        "  pais_B = pais_B + (pais_B * taxa_B)\n",
        "  anos += 1\n",
        "\n",
        "print(\"O numero de anos para igualar as populações dos países é {}\".format(anos))"
      ],
      "execution_count": null,
      "outputs": [
        {
          "output_type": "stream",
          "name": "stdout",
          "text": [
            "Informe a população do pais A: 20000\n",
            "Informe a taxa de crescimento do pais A em %: 5\n",
            "Informe a população do pais B: 800000\n",
            "Informe a taxa de crescimento do pais B em %: 1\n",
            "O numero de anos para igualar as populações dos países é 95\n"
          ]
        }
      ]
    },
    {
      "cell_type": "markdown",
      "metadata": {
        "id": "KejKYN5yU3qq"
      },
      "source": [
        "**Faça um programa que imprima na tela os números de 1 a 20, um abaixo do outro. Depois modifique o programa para que ele mostre os números um ao lado do outro.**"
      ]
    },
    {
      "cell_type": "code",
      "metadata": {
        "id": "7wuBS7xaU6Ls",
        "colab": {
          "base_uri": "https://localhost:8080/"
        },
        "outputId": "96ac3073-79cc-4a23-91eb-782bb97715ff"
      },
      "source": [
        "for i in range(1, 21):\n",
        "  print(i, end=' ')"
      ],
      "execution_count": null,
      "outputs": [
        {
          "output_type": "stream",
          "name": "stdout",
          "text": [
            "1 2 3 4 5 6 7 8 9 10 11 12 13 14 15 16 17 18 19 20 "
          ]
        }
      ]
    },
    {
      "cell_type": "markdown",
      "metadata": {
        "id": "adBxVjSCU6rQ"
      },
      "source": [
        "**Faça um programa que leia 5 números e informe o maior número.**"
      ]
    },
    {
      "cell_type": "code",
      "metadata": {
        "id": "lEbRPE8WU-Jr",
        "colab": {
          "base_uri": "https://localhost:8080/"
        },
        "outputId": "be6b409b-4467-401f-dc13-49451780e1ac"
      },
      "source": [
        "numeros = []\n",
        "while len(numeros) < 5:\n",
        "  num = int(input(\"Digite um numero inteiro: \"))\n",
        "  numeros.append(num)\n",
        "  numeros.sort(reverse=True)\n",
        "  #print(numeros)\n",
        "\n",
        "print(\"O maior numero dos cinco digitados é {}\".format(numeros[0]))"
      ],
      "execution_count": null,
      "outputs": [
        {
          "output_type": "stream",
          "name": "stdout",
          "text": [
            "Digite um numero inteiro: 1\n",
            "Digite um numero inteiro: 2\n",
            "Digite um numero inteiro: 3\n",
            "Digite um numero inteiro: 4\n",
            "Digite um numero inteiro: 5\n",
            "O maior numero dos cinco digitados é 5\n"
          ]
        }
      ]
    },
    {
      "cell_type": "markdown",
      "metadata": {
        "id": "V8q5abVyU-wB"
      },
      "source": [
        "**Faça um programa que leia 5 números e informe a soma e a média dos números.**"
      ]
    },
    {
      "cell_type": "code",
      "metadata": {
        "id": "36sW3UWdVBzl",
        "colab": {
          "base_uri": "https://localhost:8080/"
        },
        "outputId": "d5639400-e440-4cde-d40d-eca23f598865"
      },
      "source": [
        "i = 0\n",
        "soma = 0\n",
        "while i < 5:\n",
        "  num = int(input(\"Digite um numero inteiro: \"))\n",
        "  soma = soma + num\n",
        "  i += 1\n",
        "media = soma / i\n",
        "print(\"A soma dos numeros digitados foi {}. A média desses numeros é {}\".format(soma, media)) "
      ],
      "execution_count": null,
      "outputs": [
        {
          "output_type": "stream",
          "name": "stdout",
          "text": [
            "Digite um numero inteiro: 10\n",
            "Digite um numero inteiro: 20\n",
            "Digite um numero inteiro: 30\n",
            "Digite um numero inteiro: 40\n",
            "Digite um numero inteiro: 50\n",
            "A soma dos numeros digitados foi 150. A média desses numeros é 30.0\n"
          ]
        }
      ]
    },
    {
      "cell_type": "markdown",
      "metadata": {
        "id": "pKrd5O2VVCa0"
      },
      "source": [
        "**Faça um programa que imprima na tela apenas os números ímpares entre 1 e 50.**"
      ]
    },
    {
      "cell_type": "code",
      "metadata": {
        "id": "zFRtbGiOVFRe",
        "colab": {
          "base_uri": "https://localhost:8080/"
        },
        "outputId": "e452a41f-e639-46bd-c25f-cf2ac1e23150"
      },
      "source": [
        "for i in range(1, 50, 2):\n",
        "  print(i, end=' ')"
      ],
      "execution_count": null,
      "outputs": [
        {
          "output_type": "stream",
          "name": "stdout",
          "text": [
            "1 3 5 7 9 11 13 15 17 19 21 23 25 27 29 31 33 35 37 39 41 43 45 47 49 "
          ]
        }
      ]
    },
    {
      "cell_type": "markdown",
      "metadata": {
        "id": "4q8uaiwRVF2_"
      },
      "source": [
        "**Faça um programa que receba dois números inteiros e gere os números inteiros que estão no intervalo compreendido por eles.**"
      ]
    },
    {
      "cell_type": "code",
      "metadata": {
        "id": "Mpy0hRwhVJHd",
        "colab": {
          "base_uri": "https://localhost:8080/"
        },
        "outputId": "89985d72-8799-40be-94db-ff97185f303f"
      },
      "source": [
        "A = int(input(\"Digite o primeiro numero inteiro: \"))\n",
        "B = int(input(\"Digite o segundo numero inteiro: \"))\n",
        "\n",
        "if A < B:\n",
        "  for i in range(A, B+1):\n",
        "    print(i, end = ' ')\n",
        "else:\n",
        "  for i in range(B, A+1):\n",
        "    print(i, end = ' ')"
      ],
      "execution_count": null,
      "outputs": [
        {
          "output_type": "stream",
          "name": "stdout",
          "text": [
            "Digite o primeiro numero inteiro: 20\n",
            "Digite o segundo numero inteiro: 1\n",
            "1 2 3 4 5 6 7 8 9 10 11 12 13 14 15 16 17 18 19 20 "
          ]
        }
      ]
    },
    {
      "cell_type": "markdown",
      "metadata": {
        "id": "d6mQuXUIVJu4"
      },
      "source": [
        "**Altere o programa anterior para mostrar no final a soma dos números.**"
      ]
    },
    {
      "cell_type": "code",
      "metadata": {
        "id": "HGeIt1cqVMHq",
        "colab": {
          "base_uri": "https://localhost:8080/"
        },
        "outputId": "e4fc0d77-0d5e-4fe0-bd1a-e7f649e0b595"
      },
      "source": [
        "A = int(input(\"Digite o primeiro numero inteiro: \"))\n",
        "B = int(input(\"Digite o segundo numero inteiro: \"))\n",
        "soma = 0\n",
        "if A < B:\n",
        "  for i in range(A, B+1):\n",
        "    print(i, end = ' ')\n",
        "    soma = soma + i\n",
        "else:\n",
        "  for i in range(B, A+1):\n",
        "    print(i, end = ' ')\n",
        "    soma = soma + i\n",
        "\n",
        "print(\"A soma dos numeros contidos no intervalo é {}\".format(soma))"
      ],
      "execution_count": null,
      "outputs": [
        {
          "output_type": "stream",
          "name": "stdout",
          "text": [
            "Digite o primeiro numero inteiro: 10\n",
            "Digite o segundo numero inteiro: 1\n",
            "1 2 3 4 5 6 7 8 9 10 A soma dos numeros contidos no intervalo é 55\n"
          ]
        }
      ]
    },
    {
      "cell_type": "markdown",
      "metadata": {
        "id": "TUoN5lMoVMyn"
      },
      "source": [
        "**Desenvolva um gerador de tabuada, capaz de gerar a tabuada de qualquer número inteiro entre 1 a 10. O usuário deve informar de qual numero ele deseja ver a tabuada. A saída deve ser conforme o exemplo abaixo:**\n",
        "\n",
        "```\n",
        "Tabuada de 5:\n",
        "5 X 1 = 5\n",
        "5 X 2 = 10\n",
        "...\n",
        "5 X 10 = 50\n",
        "```\n",
        "\n"
      ]
    },
    {
      "cell_type": "code",
      "metadata": {
        "id": "O4tUlNQwVUP-",
        "colab": {
          "base_uri": "https://localhost:8080/"
        },
        "outputId": "8cc70c51-0d37-4665-e213-f89b0de8e316"
      },
      "source": [
        "numero = int(input(\"Digite um numero inteiro!: \"))\n",
        "print(\"Tabuada de {}\".format(numero))\n",
        "for i in range (1, 11):\n",
        "  print(\"{} x {} = {}\".format(numero, i, valor*i))"
      ],
      "execution_count": null,
      "outputs": [
        {
          "output_type": "stream",
          "name": "stdout",
          "text": [
            "Digite um numero inteiro!: 10\n",
            "Tabuada de 10\n",
            "10 x 1 = 100\n",
            "10 x 2 = 200\n",
            "10 x 3 = 300\n",
            "10 x 4 = 400\n",
            "10 x 5 = 500\n",
            "10 x 6 = 600\n",
            "10 x 7 = 700\n",
            "10 x 8 = 800\n",
            "10 x 9 = 900\n",
            "10 x 10 = 1000\n"
          ]
        }
      ]
    },
    {
      "cell_type": "markdown",
      "metadata": {
        "id": "_DhG7bJPVU-k"
      },
      "source": [
        "**Faça um programa que peça dois números, base e expoente, calcule e mostre o primeiro número elevado ao segundo número. Não utilize a função de potência da linguagem.**"
      ]
    },
    {
      "cell_type": "code",
      "metadata": {
        "id": "U5yRbhFuVX1p",
        "colab": {
          "base_uri": "https://localhost:8080/"
        },
        "outputId": "eeca657b-9edc-4122-fd49-fdd5b851448e"
      },
      "source": [
        "base = int(input(\"Determine um numero inteiro para ser a base: \"))\n",
        "expoente = int(input(\"Agoram, determine outro numero inteiro para ser o expoente: \"))\n",
        "potencia = base ** expoente\n",
        "\n",
        "print(f\"O numero {base} elevado a {expoente} é igual a {potencia}\")"
      ],
      "execution_count": null,
      "outputs": [
        {
          "output_type": "stream",
          "name": "stdout",
          "text": [
            "Determine um numero inteiro para ser a base: 1354\n",
            "Agoram, determine outro numero inteiro para ser o expoente: 2\n",
            "O numero 1354 elevado a 2 é igual a 1833316\n"
          ]
        }
      ]
    },
    {
      "cell_type": "markdown",
      "metadata": {
        "id": "xJ0TIO2hVYQ_"
      },
      "source": [
        "**Faça um programa que peça 10 números inteiros, calcule e mostre a quantidade de números pares e a quantidade de números impares.**"
      ]
    },
    {
      "cell_type": "code",
      "metadata": {
        "id": "5vxglX_VVc49",
        "colab": {
          "base_uri": "https://localhost:8080/"
        },
        "outputId": "4b3bd19c-b8aa-465c-f418-6dda7f4f95b2"
      },
      "source": [
        "numeros = 0\n",
        "pares = 0\n",
        "impares = 0\n",
        "while numeros < 10:\n",
        "  num = int(input(\"Digite um numero inteiro: \"))\n",
        "  if (num % 2) == 0:\n",
        "    pares += 1\n",
        "  else:\n",
        "    impares += 1\n",
        "  numeros += 1\n",
        "print(f\"Numeros pares digitados = {pares}, Numeros impares digitados = {impares}\")"
      ],
      "execution_count": null,
      "outputs": [
        {
          "output_type": "stream",
          "name": "stdout",
          "text": [
            "Digite um numero inteiro: 1\n",
            "Digite um numero inteiro: 5\n",
            "Digite um numero inteiro: 7\n",
            "Digite um numero inteiro: 8\n",
            "Digite um numero inteiro: 9\n",
            "Digite um numero inteiro: 44\n",
            "Digite um numero inteiro: 58\n",
            "Digite um numero inteiro: 845638\n",
            "Digite um numero inteiro: 15254\n",
            "Digite um numero inteiro: 12354\n",
            "Numeros pares digitados = 6, Numeros impares digitados = 4\n"
          ]
        }
      ]
    },
    {
      "cell_type": "markdown",
      "metadata": {
        "id": "UA8SBnbHVda4"
      },
      "source": [
        "**A série de Fibonacci é formada pela seqüência 1,1,2,3,5,8,13,21,34,55,... Faça um programa capaz de gerar a série até o n−ésimo termo.**"
      ]
    },
    {
      "cell_type": "code",
      "metadata": {
        "id": "h9j2dE-vVfok",
        "colab": {
          "base_uri": "https://localhost:8080/"
        },
        "outputId": "1b1e4b88-1caa-4ee1-88dc-2eef2fe63768"
      },
      "source": [
        "n = int(input(\"Determine n: \"))\n",
        "ultimo = 0\n",
        "penultimo = 1\n",
        "\n",
        "if n == 1: \n",
        "  print(\"1\")\n",
        "\n",
        "elif n == 2:\n",
        "  print(\"1 1\")\n",
        "\n",
        "else:\n",
        "    count = 0\n",
        "    while count < n:\n",
        "        termo = ultimo + penultimo\n",
        "        penultimo = ultimo\n",
        "        ultimo = termo\n",
        "        count += 1\n",
        "        print(termo, end=' ')"
      ],
      "execution_count": null,
      "outputs": [
        {
          "output_type": "stream",
          "name": "stdout",
          "text": [
            "Determine n: 10\n",
            "1 1 2 3 5 8 13 21 34 55 "
          ]
        }
      ]
    },
    {
      "cell_type": "markdown",
      "metadata": {
        "id": "mm-MWVgQVgO4"
      },
      "source": [
        "**A série de Fibonacci é formada pela seqüência 0,1,1,2,3,5,8,13,21,34,55,... Faça um programa que gere a série até que o valor seja maior que 500.**"
      ]
    },
    {
      "cell_type": "code",
      "metadata": {
        "id": "m6gMMhuYXRR-",
        "colab": {
          "base_uri": "https://localhost:8080/"
        },
        "outputId": "2129ae18-ebda-4ea3-f869-98e70e954826"
      },
      "source": [
        "termo = 0\n",
        "ultimo = 0\n",
        "penultimo = 1\n",
        "\n",
        "while termo <= 500:\n",
        "    termo = ultimo + penultimo\n",
        "    penultimo = ultimo\n",
        "    ultimo = termo\n",
        "    print(termo, end=' ')"
      ],
      "execution_count": null,
      "outputs": [
        {
          "output_type": "stream",
          "name": "stdout",
          "text": [
            "1 1 2 3 5 8 13 21 34 55 89 144 233 377 610 "
          ]
        }
      ]
    },
    {
      "cell_type": "markdown",
      "metadata": {
        "id": "BmfbwTXGXR4L"
      },
      "source": [
        "**Faça um programa que calcule o fatorial de um número inteiro fornecido pelo usuário. Ex.: 5!=5.4.3.2.1=120**"
      ]
    },
    {
      "cell_type": "code",
      "metadata": {
        "id": "XzQtaMkvXVkM",
        "colab": {
          "base_uri": "https://localhost:8080/"
        },
        "outputId": "eb0754b2-aa64-4965-f2a5-5d39201f1be9"
      },
      "source": [
        "n = int(input(\"Determine um numero inteiro: \"))\n",
        "i = 1\n",
        "fatorial = 1\n",
        "\n",
        "if n == 0:\n",
        "  print(f\"{n}! = 1\")\n",
        "\n",
        "else:\n",
        "  while i <= n:\n",
        "    fatorial *= i\n",
        "    i += 1\n",
        "print(f\"{n}! = {fatorial}\")"
      ],
      "execution_count": null,
      "outputs": [
        {
          "output_type": "stream",
          "name": "stdout",
          "text": [
            "Determine um numero inteiro: 10\n",
            "10! = 3628800\n"
          ]
        }
      ]
    },
    {
      "cell_type": "markdown",
      "metadata": {
        "id": "8KTGUK32XbGd"
      },
      "source": [
        "**Faça um programa que, dado um conjunto de N números, determine o menor valor, o maior valor e a soma dos valores.**"
      ]
    },
    {
      "cell_type": "code",
      "metadata": {
        "id": "ZkMBx9AeXdh2",
        "colab": {
          "base_uri": "https://localhost:8080/"
        },
        "outputId": "2685d933-c969-4497-8baf-f1ea5463e35f"
      },
      "source": [
        "import random\n",
        "\n",
        "n = n = int(input(\"Determine um numero inteiro: \"))\n",
        "numeros = []\n",
        "soma = 0\n",
        "\n",
        "for i in range(n):\n",
        "  num = random.randrange(1000)\n",
        "  numeros.append(num)\n",
        "  soma = soma + num\n",
        "\n",
        "numeros.sort()\n",
        "print(f\"Os numeros gerados foram {numeros}\")\n",
        "print(f\"O menor valor é {numeros[0]}\")\n",
        "print(f\"O maior valor é {numeros[-1]}\")\n",
        "print(f\"A soma dos números gerados é {soma}\")\n"
      ],
      "execution_count": null,
      "outputs": [
        {
          "output_type": "stream",
          "name": "stdout",
          "text": [
            "Determine um numero inteiro: 5\n",
            "Os numeros gerados foram [78, 88, 205, 693, 757]\n",
            "O menor valor é 78\n",
            "O maior valor é 757\n",
            "A soma dos números gerados é 1821\n"
          ]
        }
      ]
    },
    {
      "cell_type": "markdown",
      "metadata": {
        "id": "-nZDNAiI-4u7"
      },
      "source": [
        "**Exemplo anterior mas usando list compreheensions:**"
      ]
    },
    {
      "cell_type": "code",
      "metadata": {
        "colab": {
          "base_uri": "https://localhost:8080/"
        },
        "id": "MIGFenUU-FlV",
        "outputId": "df70b02a-29cf-4d3b-a07a-25886c6be834"
      },
      "source": [
        "import random\n",
        "\n",
        "n = n = int(input(\"Determine um numero inteiro: \"))\n",
        "numeros = [random.randrange(1000) for i in range (n)]\n",
        "soma = 0\n",
        "for i in range(n):\n",
        "  soma = soma + numeros[i] \n",
        "\n",
        "numeros.sort()\n",
        "print(f\"Os numeros gerados foram {numeros}\")\n",
        "print(f\"O menor valor é {numeros[0]}\")\n",
        "print(f\"O maior valor é {numeros[-1]}\")\n",
        "print(f\"A soma dos números gerados é {soma}\")"
      ],
      "execution_count": null,
      "outputs": [
        {
          "output_type": "stream",
          "name": "stdout",
          "text": [
            "Determine um numero inteiro: 5\n",
            "Os numeros gerados foram [361, 412, 587, 847, 986]\n",
            "O menor valor é 361\n",
            "O maior valor é 986\n",
            "A soma dos números gerados é 3193\n"
          ]
        }
      ]
    },
    {
      "cell_type": "markdown",
      "metadata": {
        "id": "iIUeumwZXeDI"
      },
      "source": [
        "\n",
        "**Altere o programa anterior para que ele aceite apenas números entre 0 e 1000.**"
      ]
    },
    {
      "cell_type": "code",
      "metadata": {
        "id": "u_xrYYaRXg5g",
        "colab": {
          "base_uri": "https://localhost:8080/"
        },
        "outputId": "b83b9746-6918-4172-fb3b-e061c72e1ede"
      },
      "source": [
        "import random\n",
        "\n",
        "n = n = int(input(\"Determine um numero inteiro: \"))\n",
        "while (n < 0) or (n > 1000):\n",
        "  n = n = int(input(\"Determine um numero inteiro: \"))\n",
        "\n",
        "numeros = [random.randrange(1000) for i in range (n)]\n",
        "soma = 0\n",
        "for i in range(n):\n",
        "  soma = soma + numeros[i] \n",
        "\n",
        "numeros.sort()\n",
        "print(f\"Os numeros gerados foram {numeros}\")\n",
        "print(f\"O menor valor é {numeros[0]}\")\n",
        "print(f\"O maior valor é {numeros[-1]}\")\n",
        "print(f\"A soma dos números gerados é {soma}\")"
      ],
      "execution_count": null,
      "outputs": [
        {
          "output_type": "stream",
          "name": "stdout",
          "text": [
            "Determine um numero inteiro: 1010\n",
            "Determine um numero inteiro: 1011\n",
            "Determine um numero inteiro: 1012\n",
            "Determine um numero inteiro: -1\n",
            "Determine um numero inteiro: -5\n",
            "Determine um numero inteiro: 50\n",
            "Os numeros gerados foram [3, 13, 18, 69, 131, 138, 258, 258, 302, 329, 347, 363, 388, 431, 445, 446, 532, 540, 613, 615, 616, 618, 632, 642, 654, 666, 670, 674, 715, 720, 738, 743, 756, 771, 774, 828, 846, 858, 876, 890, 891, 901, 939, 943, 953, 959, 966, 972, 992, 993]\n",
            "O menor valor é 3\n",
            "O maior valor é 993\n",
            "A soma dos números gerados é 30435\n"
          ]
        }
      ]
    },
    {
      "cell_type": "markdown",
      "metadata": {
        "id": "WWGAUYneXhXK"
      },
      "source": [
        "**Altere o programa de cálculo do fatorial, permitindo ao usuário calcular o fatorial várias vezes e limitando o fatorial a números inteiros positivos e menores que 16.**"
      ]
    },
    {
      "cell_type": "code",
      "metadata": {
        "id": "FlwRZnX4Xj5L",
        "colab": {
          "base_uri": "https://localhost:8080/"
        },
        "outputId": "dc1ce243-0a42-45aa-8cff-f85640b02887"
      },
      "source": [
        "n = 1\n",
        "while (n > 0) and (n < 16): \n",
        "  n = int(input(\"Determine um numero inteiro positivo menor que 16: \"))\n",
        "  if n <= 16:\n",
        "    i = 1\n",
        "    fatorial = 1\n",
        "\n",
        "    if n == 0:\n",
        "      print(f\"{n}! = 1\")\n",
        "\n",
        "    else:\n",
        "      while i <= n:\n",
        "        fatorial *= i\n",
        "        i += 1\n",
        "    print(f\"{n}! = {fatorial}\")\n",
        "  else:\n",
        "    print(\"Numero fora do limite!\")\n",
        "    break"
      ],
      "execution_count": null,
      "outputs": [
        {
          "output_type": "stream",
          "name": "stdout",
          "text": [
            "Determine um numero inteiro positivo menor que 16: 17\n",
            "Numero fora do limite!\n"
          ]
        }
      ]
    },
    {
      "cell_type": "markdown",
      "metadata": {
        "id": "NT3vQwFOXkZY"
      },
      "source": [
        "**Faça um programa que peça um número inteiro e determine se ele é ou não um número primo. Um número primo é aquele que é divisível somente por ele mesmo e por 1.**"
      ]
    },
    {
      "cell_type": "code",
      "metadata": {
        "id": "Ps7yROPbXmqV",
        "colab": {
          "base_uri": "https://localhost:8080/"
        },
        "outputId": "627cbb33-32e9-4e13-e308-cae489884c22"
      },
      "source": [
        "n = n = int(input(\"Determine um numero inteiro: \"))\n",
        "mult = 0\n",
        "\n",
        "for i in range(2,n):\n",
        "  if (n % i == 0):\n",
        "    mult += 1\n",
        "\n",
        "if mult == 0:\n",
        "  print(f\"{n} é primo!\")\n",
        "else:\n",
        "  print(f\"{n} não é primo!\")"
      ],
      "execution_count": null,
      "outputs": [
        {
          "output_type": "stream",
          "name": "stdout",
          "text": [
            "Determine um numero inteiro: 97\n",
            "97 é primo!\n"
          ]
        }
      ]
    },
    {
      "cell_type": "markdown",
      "metadata": {
        "id": "VNZ9fUQXXnW3"
      },
      "source": [
        "**Altere o programa de cálculo dos números primos, informando, caso o número não seja primo, por quais número ele é divisível.**"
      ]
    },
    {
      "cell_type": "code",
      "metadata": {
        "id": "kmtaSCvuXuPl",
        "colab": {
          "base_uri": "https://localhost:8080/"
        },
        "outputId": "3357e181-4689-4c92-d0db-a9bc2d46e746"
      },
      "source": [
        "n = n = int(input(\"Determine um numero inteiro: \"))\n",
        "mult = 0\n",
        "div = []\n",
        "\n",
        "for i in range(2,n):\n",
        "  if (n % i == 0):\n",
        "    div.append(i)\n",
        "    mult += 1\n",
        "\n",
        "if mult == 0:\n",
        "  print(f\"{n} é primo!\")\n",
        "  \n",
        "else:\n",
        "  print(f\"{n} não é primo! e seus divisores são {div}\")"
      ],
      "execution_count": null,
      "outputs": [
        {
          "output_type": "stream",
          "name": "stdout",
          "text": [
            "Determine um numero inteiro: 14780\n",
            "14780 não é primo! e seus divisores são [2, 4, 5, 10, 20, 739, 1478, 2956, 3695, 7390]\n"
          ]
        }
      ]
    },
    {
      "cell_type": "markdown",
      "metadata": {
        "id": "hoAuDwG8XuxZ"
      },
      "source": [
        "**Faça um programa que mostre todos os primos entre 1 e N sendo N um número inteiro fornecido pelo usuár'io. O programa deverá mostrar também o número de divisões que ele executou para encontrar os números primos. Serão avaliados o funcionamento, o estilo e o número de testes (divisões) executados.**"
      ]
    },
    {
      "cell_type": "code",
      "metadata": {
        "id": "Zjf46gqHXx0I"
      },
      "source": [
        "????"
      ],
      "execution_count": null,
      "outputs": []
    },
    {
      "cell_type": "markdown",
      "metadata": {
        "id": "6Ym230blXyYq"
      },
      "source": [
        "**Faça um programa que calcule o mostre a média aritmética de N notas.**"
      ]
    },
    {
      "cell_type": "code",
      "metadata": {
        "id": "a6TZ41sCX1YH",
        "colab": {
          "base_uri": "https://localhost:8080/"
        },
        "outputId": "a485b935-30fe-4921-8f28-59e50cd64b3b"
      },
      "source": [
        "n = int(input(\"Determine um numero inteiro positivo maior que zero: \"))\n",
        "print(f\"Será calculado a média de {n} notas.\")\n",
        "i = 0\n",
        "soma = 0\n",
        "\n",
        "while i < (n):\n",
        "  nota = int(input(\"Digite uma nota: \"))\n",
        "  soma += nota\n",
        "  i += 1\n",
        "\n",
        "media = soma / n\n",
        "print(f\"A média das notas digitadas é {media}\")"
      ],
      "execution_count": null,
      "outputs": [
        {
          "output_type": "stream",
          "name": "stdout",
          "text": [
            "Determine um numero inteiro positivo maior que zero: 5\n",
            "Será calculado a média de 5 notas.\n",
            "Digite uma nota: 2\n",
            "Digite uma nota: 2\n",
            "Digite uma nota: 2\n",
            "Digite uma nota: 2\n",
            "Digite uma nota: 2\n",
            "A média das notas digitadas é 2.0\n"
          ]
        }
      ]
    },
    {
      "cell_type": "markdown",
      "metadata": {
        "id": "21efvlNBX19H"
      },
      "source": [
        "**Faça um programa que peça para n pessoas a sua idade, ao final o programa devera verificar se a média de idade da turma varia entre 0 e 25,26 e 60 e maior que 60; e então, dizer se a turma é jovem, adulta ou idosa, conforme a média calculada.**"
      ]
    },
    {
      "cell_type": "code",
      "metadata": {
        "id": "gKv780_eX4oj",
        "colab": {
          "base_uri": "https://localhost:8080/"
        },
        "outputId": "cf325fe5-bc6f-4771-b102-a0ba360f7ade"
      },
      "source": [
        "n = int(input(\"Determine um numero inteiro positivo maior que zero: \"))\n",
        "print(f\"Determine a idade de {n} pessoas\")\n",
        "i = 0\n",
        "soma = 0\n",
        "\n",
        "while i < n:\n",
        "  idade = int(input(\"Digite uma idade: \"))\n",
        "  soma += idade\n",
        "  i += 1\n",
        "\n",
        "media = soma / n\n",
        "if media >= 60:\n",
        "  print(f\"A média de idade da turma é {media} anos, logo a turma é idosa\")\n",
        "elif (media < 60) and (media > 25):\n",
        "  print(f\"A média de idade da turma é {media} anos, logo a turma é adulta\")\n",
        "else:\n",
        "  print(f\"A média de idade da turma é {media} anos, logo a turma é jovem\") "
      ],
      "execution_count": 7,
      "outputs": [
        {
          "output_type": "stream",
          "name": "stdout",
          "text": [
            "Determine um numero inteiro positivo maior que zero: 5\n",
            "Determine a idade de 5 pessoas\n",
            "Digite uma idade: 10\n",
            "Digite uma idade: 12\n",
            "Digite uma idade: 14\n",
            "Digite uma idade: 11\n",
            "Digite uma idade: 10\n",
            "A média de idade da turma é 11.4 anos, logo a turma é jovem\n"
          ]
        }
      ]
    },
    {
      "cell_type": "markdown",
      "metadata": {
        "id": "l0xNGUk6X5Dt"
      },
      "source": [
        "**Numa eleição existem três candidatos. Faça um programa que peça o número total de eleitores. Peça para cada eleitor votar e ao final mostrar o número de votos de cada candidato.**"
      ]
    },
    {
      "cell_type": "code",
      "metadata": {
        "id": "J3gDk-GyX7vi",
        "colab": {
          "base_uri": "https://localhost:8080/"
        },
        "outputId": "9f806884-6132-408b-b335-95fcf60a1d3d"
      },
      "source": [
        "eleitores = int(input(\"Determine o numero de eleitores: \"))\n",
        "i = 0\n",
        "cand_1 = 0\n",
        "cand_2 = 0\n",
        "cand_3 = 0\n",
        "\n",
        "while i < n:\n",
        "  voto = int(input(\"Em qual candidato você vota (1, 2 ou 3)?: \"))\n",
        "  if voto == 1:\n",
        "    cand_1 += 1\n",
        "  elif voto == 2:\n",
        "    cand_2 += 1\n",
        "  elif voto == 3:\n",
        "    cand_3 += 1\n",
        "  else:\n",
        "    print(\"Voto inválido\")\n",
        "  i += 1\n",
        "\n",
        "print(f\"O candidato 1 teve {cand_1} votos\")\n",
        "print(f\"O candidato 2 teve {cand_2} votos\")\n",
        "print(f\"O candidato 3 teve {cand_3} votos\")\n"
      ],
      "execution_count": 10,
      "outputs": [
        {
          "output_type": "stream",
          "name": "stdout",
          "text": [
            "Determine o numero de eleitores: 5\n",
            "Em qual candidato você vota (1, 2 ou 3)?: 4\n",
            "Voto inválido\n",
            "Em qual candidato você vota (1, 2 ou 3)?: 4\n",
            "Voto inválido\n",
            "Em qual candidato você vota (1, 2 ou 3)?: 4\n",
            "Voto inválido\n",
            "Em qual candidato você vota (1, 2 ou 3)?: 4\n",
            "Voto inválido\n",
            "Em qual candidato você vota (1, 2 ou 3)?: 4\n",
            "Voto inválido\n",
            "O candidato 1 teve 0 votos\n",
            "O candidato 2 teve 0 votos\n",
            "O candidato 3 teve 0 votos\n"
          ]
        }
      ]
    },
    {
      "cell_type": "markdown",
      "metadata": {
        "id": "955iZQCtX8E3"
      },
      "source": [
        "**Faça um programa que calcule o número médio de alunos por turma. Para isto, peça a quantidade de turmas e a quantidade de alunos para cada turma. As turmas não podem ter mais de 40 alunos.**"
      ]
    },
    {
      "cell_type": "code",
      "metadata": {
        "id": "wB4AHjxQX-Rq",
        "colab": {
          "base_uri": "https://localhost:8080/"
        },
        "outputId": "5cc786fa-538b-473a-e57e-9acd9e2fd2ae"
      },
      "source": [
        "turmas = int(input(\"Determine o numero de turmas: \"))\n",
        "alunos = 0\n",
        "soma = 0\n",
        "i = 1\n",
        "\n",
        "while i < turmas+1:\n",
        "  alunos = int(input(f\"Agora, determine a quantidade de alunos da turma {i}: \"))\n",
        "  soma += alunos\n",
        "  i += 1 \n",
        "media = soma / turmas\n",
        "print(f\"A quantidade média de alunos por turma é {media}\")"
      ],
      "execution_count": 13,
      "outputs": [
        {
          "output_type": "stream",
          "name": "stdout",
          "text": [
            "Determine o numero de turmas: 5\n",
            "Agora, determine a quantidade de alunos da turma 1: 15\n",
            "Agora, determine a quantidade de alunos da turma 2: 22\n",
            "Agora, determine a quantidade de alunos da turma 3: 34\n",
            "Agora, determine a quantidade de alunos da turma 4: 78\n",
            "Agora, determine a quantidade de alunos da turma 5: 45\n",
            "A quantidade média de alunos por turma é 38.8\n"
          ]
        }
      ]
    },
    {
      "cell_type": "markdown",
      "metadata": {
        "id": "48Gh62AKX-ui"
      },
      "source": [
        "**Faça um programa que calcule o valor total investido por um colecionador em sua coleção de CDs e o valor médio gasto em cada um deles. O usuário deverá informar a quantidade de CDs e o valor para em cada um.**"
      ]
    },
    {
      "cell_type": "code",
      "metadata": {
        "id": "Vo7gwoZ4YA9Z",
        "colab": {
          "base_uri": "https://localhost:8080/"
        },
        "outputId": "76cc9ea5-6451-48ff-91cd-5b627dfce89a"
      },
      "source": [
        "cds = int(input(\"Determine a quantidade de cds na coleção: \"))\n",
        "valor_total = 0\n",
        "preco = 0\n",
        "i = 1\n",
        "\n",
        "while i < cds+1:\n",
        "  preco = int(input(f\"Determine o preço do cd {i}: \"))\n",
        "  valor_total += preco\n",
        "  i += 1\n",
        "media = valor_total / cds\n",
        "print(f\"O valor total da coleção é {valor_total}. A média de valor por cd é {media} \")"
      ],
      "execution_count": 15,
      "outputs": [
        {
          "output_type": "stream",
          "name": "stdout",
          "text": [
            "Determine a quantidade de cds na coleção: 5\n",
            "Determine o preço do cd 1: 45\n",
            "Determine o preço do cd 2: 85\n",
            "Determine o preço do cd 3: 200\n",
            "Determine o preço do cd 4: 12\n",
            "Determine o preço do cd 5: 44\n",
            "O valor total da coleção é 386. A média de valor por cd é 77.2 \n"
          ]
        }
      ]
    },
    {
      "cell_type": "markdown",
      "metadata": {
        "id": "osteOSyHYCRW"
      },
      "source": [
        "**O Sr. Manoel Joaquim possui uma grande loja de artigos de R$ 1,99, com cerca de 10 caixas. Para agilizar o cálculo de quanto cada cliente deve pagar ele desenvolveu um tabela que contém o número de itens que o cliente comprou e ao lado o valor da conta. Desta forma a atendente do caixa precisa apenas contar quantos itens o cliente está levando e olhar na tabela de preços. Você foi contratado para desenvolver o programa que monta esta tabela de preços, que conterá os preços de 1 até 50 produtos, conforme o exemplo abaixo:**\n",
        "\n",
        "```\n",
        "Lojas Quase Dois - Tabela de preços\n",
        "1 - R$ 1.99\n",
        "2 - R$ 3.98\n",
        "...\n",
        "50 - R$ 99.50\n",
        "```\n",
        "\n"
      ]
    },
    {
      "cell_type": "code",
      "metadata": {
        "id": "DOL5MU7QYJOP",
        "colab": {
          "base_uri": "https://localhost:8080/"
        },
        "outputId": "55e921f9-385d-49ae-c99c-ad165e04c636"
      },
      "source": [
        "n = int(input(\"Determine a quantidade de protudos: \"))\n",
        "preço_final = 0\n",
        "print(\"Lojas Quase Dois - Tabela de preços\")\n",
        "for i in range (1, n+1):\n",
        "  valor_total = 1.99 * i\n",
        "  print(f\"{i} - R$ {valor_total}\")"
      ],
      "execution_count": 21,
      "outputs": [
        {
          "output_type": "stream",
          "name": "stdout",
          "text": [
            "Determine a quantidade de protudos: 10\n",
            "Lojas Quase Dois - Tabela de preços\n",
            "1 - R$ 1.99\n",
            "2 - R$ 3.98\n",
            "3 - R$ 5.97\n",
            "4 - R$ 7.96\n",
            "5 - R$ 9.95\n",
            "6 - R$ 11.94\n",
            "7 - R$ 13.93\n",
            "8 - R$ 15.92\n",
            "9 - R$ 17.91\n",
            "10 - R$ 19.9\n"
          ]
        }
      ]
    },
    {
      "cell_type": "code",
      "metadata": {
        "id": "jCc0yQPXsvtn"
      },
      "source": [
        ""
      ],
      "execution_count": null,
      "outputs": []
    }
  ]
}