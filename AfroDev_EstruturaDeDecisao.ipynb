{
  "nbformat": 4,
  "nbformat_minor": 0,
  "metadata": {
    "colab": {
      "name": "AfroDev_EstruturaDeDecisao.ipynb",
      "provenance": [],
      "collapsed_sections": [],
      "include_colab_link": true
    },
    "kernelspec": {
      "name": "python3",
      "display_name": "Python 3"
    },
    "language_info": {
      "name": "python"
    }
  },
  "cells": [
    {
      "cell_type": "markdown",
      "metadata": {
        "id": "view-in-github",
        "colab_type": "text"
      },
      "source": [
        "<a href=\"https://colab.research.google.com/github/dissonpontes/Data-Analysis-Practice/blob/master/AfroDev_EstruturaDeDecisao.ipynb\" target=\"_parent\"><img src=\"https://colab.research.google.com/assets/colab-badge.svg\" alt=\"Open In Colab\"/></a>"
      ]
    },
    {
      "cell_type": "markdown",
      "metadata": {
        "id": "G_OlOhEvJ36b"
      },
      "source": [
        "**Faça um Programa que peça dois números e imprima o maior deles.**"
      ]
    },
    {
      "cell_type": "code",
      "metadata": {
        "id": "362fBqdZJ9zi",
        "colab": {
          "base_uri": "https://localhost:8080/"
        },
        "outputId": "1a212316-1795-4eaa-a119-6557f0621aa8"
      },
      "source": [
        "a = int(input('Determine o primeiro número: '))\n",
        "b = int(input('Determine o segundo número: '))\n",
        "\n",
        "if a > b:\n",
        "  print(\"O número {} é o maior!\".format(a))\n",
        "else:\n",
        "  print(\"O número {} é o maior \".format(b))"
      ],
      "execution_count": null,
      "outputs": [
        {
          "output_type": "stream",
          "name": "stdout",
          "text": [
            "Determine o primeiro número: 15\n",
            "Determine o segundo número: 20\n",
            "O número 20 é o maior \n"
          ]
        }
      ]
    },
    {
      "cell_type": "markdown",
      "metadata": {
        "id": "NP80SIo_J-2s"
      },
      "source": [
        "**Faça um Programa que peça um valor e mostre na tela se o valor é positivo ou negativo.**\n"
      ]
    },
    {
      "cell_type": "code",
      "metadata": {
        "id": "dcIuf2HoKCBA",
        "colab": {
          "base_uri": "https://localhost:8080/"
        },
        "outputId": "b750b7dd-71dd-4ef0-9ac4-7dda872ff521"
      },
      "source": [
        "valor = int(input('Determine o número: '))\n",
        "if valor >= 0:\n",
        "  print(\"O número digitado é positivo\")\n",
        "else:\n",
        "  print(\"O número digitado é negativo\")"
      ],
      "execution_count": null,
      "outputs": [
        {
          "output_type": "stream",
          "name": "stdout",
          "text": [
            "Determine o número: 10\n",
            "O número digitado é positivo\n"
          ]
        }
      ]
    },
    {
      "cell_type": "markdown",
      "metadata": {
        "id": "SKKJfiz5KChN"
      },
      "source": [
        "**Faça um Programa que verifique se uma letra digitada é \"F\" ou \"M\". Conforme a letra escrever: F - Feminino, M - Masculino, Sexo Inválido.**"
      ]
    },
    {
      "cell_type": "code",
      "metadata": {
        "id": "TTKGQOexKGhm",
        "colab": {
          "base_uri": "https://localhost:8080/"
        },
        "outputId": "2297945f-d10a-44b4-cb91-b8367cf969da"
      },
      "source": [
        "letra = input(\"Digite uma letra: \")\n",
        "if letra == \"M\":\n",
        "  print(\"M - Masculino\")\n",
        "elif letra == \"F\":\n",
        "  print(\"F - Feminino\")\n",
        "else:\n",
        "  print(\"A letra digitada não é F ou M\")"
      ],
      "execution_count": null,
      "outputs": [
        {
          "output_type": "stream",
          "name": "stdout",
          "text": [
            "Digite uma letra: M\n",
            "M - Masculino\n"
          ]
        }
      ]
    },
    {
      "cell_type": "markdown",
      "metadata": {
        "id": "ZWWd3bCEKHDo"
      },
      "source": [
        "**Faça um Programa que verifique se uma letra digitada é vogal ou consoante.**\n"
      ]
    },
    {
      "cell_type": "code",
      "metadata": {
        "id": "VH92aUqxKL0u",
        "colab": {
          "base_uri": "https://localhost:8080/"
        },
        "outputId": "a433068b-816d-4630-a63f-3e1ae3985a0f"
      },
      "source": [
        "vogais = [\"a\", \"e\", \"i\", \"o\", \"u\"]\n",
        "letra = input(\"Digite uma letra: \").lower()\n",
        "if letra.isalpha():\n",
        "  if letra in vogais:\n",
        "    print(\"A letra digitada é uma vogal\")\n",
        "  else:\n",
        "    print(\"A letra digitada é uma consoante\")\n",
        "else:\n",
        "  print(\"Não foi digitado uma letra!! Favor rodar o programa novamente!\")"
      ],
      "execution_count": null,
      "outputs": [
        {
          "output_type": "stream",
          "name": "stdout",
          "text": [
            "Digite uma letra: $\n",
            "Não foi digitado uma letra!! Favor rodar o programa novamente!\n"
          ]
        }
      ]
    },
    {
      "cell_type": "markdown",
      "metadata": {
        "id": "-EWVLFREKOUm"
      },
      "source": [
        "**Faça um programa para a leitura de duas notas parciais de um aluno. O programa deve calcular a média alcançada por aluno e apresentar:**\n",
        "\n",
        "1. A mensagem \"Aprovado\", se a média alcançada for maior ou igual a sete;\n",
        "2. A mensagem \"Reprovado\", se a média for menor do que sete;\n",
        "3. A mensagem \"Aprovado com Distinção\", se a média for igual a dez.\n"
      ]
    },
    {
      "cell_type": "code",
      "metadata": {
        "id": "BOn_4lfHKlel",
        "colab": {
          "base_uri": "https://localhost:8080/"
        },
        "outputId": "aa845921-a532-4e46-84cc-870741942b18"
      },
      "source": [
        "nota_1 = int(input(\"Digite a primeira nota!: \"))\n",
        "nota_2 = int(input(\"Digite a segunda nota!: \"))\n",
        "media = (nota_1 + nota_2) / 2\n",
        "if media == 10:\n",
        "  print(\"O aluno foi aprovado distinção! Média {}, parabéns!\".format(media))\n",
        "elif (media >= 7) and (media < 10):\n",
        "  print(\"O aluno foi aprovado! Média {}\".format(media))\n",
        "else:\n",
        "  print(\"O aluno foi reprovado! Média {}\".format(media))"
      ],
      "execution_count": null,
      "outputs": [
        {
          "output_type": "stream",
          "name": "stdout",
          "text": [
            "Digite a primeira nota!: 8\n",
            "Digite a segunda nota!: 8\n",
            "O aluno foi aprovado! Média 8.0\n"
          ]
        }
      ]
    },
    {
      "cell_type": "markdown",
      "metadata": {
        "id": "uJ-YSfcqKm9L"
      },
      "source": [
        "**Faça um Programa que leia três números e mostre o maior deles.**"
      ]
    },
    {
      "cell_type": "code",
      "metadata": {
        "id": "WLor82RpKqtA",
        "colab": {
          "base_uri": "https://localhost:8080/"
        },
        "outputId": "9206c791-cab4-495f-8003-4e3317d0de3f"
      },
      "source": [
        "num1 = int(input(\"Digite o primeiro numero inteiro: \"))\n",
        "num2 = int(input(\"Digite o segundo numero inteiro: \"))\n",
        "num3 = int(input(\"Digite o terceiro numero inteiro: \"))\n",
        "\n",
        "if (num1 > num2) and (num1 > num3):\n",
        "  print(\"O primeiro numero ({}) é o maior.\".format(num1))\n",
        "elif (num2 > num1) and (num2 > num3):\n",
        "    print(\"O segundo numero ({}) é o maior\".format(num2))\n",
        "else:\n",
        "  print(\"O terceiro numero ({}) é o maior\".format(num3))"
      ],
      "execution_count": null,
      "outputs": [
        {
          "output_type": "stream",
          "name": "stdout",
          "text": [
            "Digite o primeiro numero inteiro: 1\n",
            "Digite o segundo numero inteiro: 2\n",
            "Digite o terceiro numero inteiro: 1\n",
            "O segundo numero (2) é o maior\n"
          ]
        }
      ]
    },
    {
      "cell_type": "markdown",
      "metadata": {
        "id": "S5FF994WKrQE"
      },
      "source": [
        "**Faça um Programa que leia três números e mostre o maior e o menor deles.**"
      ]
    },
    {
      "cell_type": "code",
      "metadata": {
        "id": "Ll3Xi6ztKuQz",
        "colab": {
          "base_uri": "https://localhost:8080/"
        },
        "outputId": "0f4748e1-bb78-4aa9-d66b-150fc715a695"
      },
      "source": [
        "num1 = int(input(\"Digite o primeiro numero inteiro: \"))\n",
        "num2 = int(input(\"Digite o segundo numero inteiro: \"))\n",
        "num3 = int(input(\"Digite o terceiro numero inteiro: \"))\n",
        "lista = []\n",
        "lista.append(num1)\n",
        "lista.append(num2)\n",
        "lista.append(num3)\n",
        "if (num1 > num2) and (num1 > num3):\n",
        "  print(\"O primeiro numero ({}) é o maior.\".format(num1))\n",
        "elif (num2 > num1) and (num2 > num3):\n",
        "    print(\"O segundo numero ({}) é o maior\".format(num2))\n",
        "else:\n",
        "  print(\"O terceiro numero ({}) é o maior\".format(num3))\n",
        "\n",
        "print(\"O maior numero da sequencia é {} e o menor numero da sequencia é {}\".format(max(lista), min(lista)))"
      ],
      "execution_count": null,
      "outputs": [
        {
          "output_type": "stream",
          "name": "stdout",
          "text": [
            "Digite o primeiro numero inteiro: 5\n",
            "Digite o segundo numero inteiro: 10\n",
            "Digite o terceiro numero inteiro: 89\n",
            "O terceiro numero (89) é o maior\n",
            "O maior numero da sequencia é 89 e o menor numero da sequencia é 5\n"
          ]
        }
      ]
    },
    {
      "cell_type": "markdown",
      "metadata": {
        "id": "bKJZhsWvKuxK"
      },
      "source": [
        "\n",
        "**Faça um programa que pergunte o preço de três produtos e informe qual produto você deve comprar, sabendo que a decisão é sempre pelo mais barato.**"
      ]
    },
    {
      "cell_type": "code",
      "metadata": {
        "id": "tEqrpqB4KyEk",
        "colab": {
          "base_uri": "https://localhost:8080/"
        },
        "outputId": "385d4caf-4084-4bfd-d4e7-feacfd3d758c"
      },
      "source": [
        "preço1 = float(input(\"Digite o primeiro preço: \"))\n",
        "preço2 = float(input(\"Digite o segundo preço: \"))\n",
        "preço3 = float(input(\"Digite o terceiro preço: \"))\n",
        "\n",
        "if (preço1 < preço2) and (preço1 < preço3):\n",
        "  print(\"O primeiro preço ({} reais) é o menor.\".format(preço1))\n",
        "elif (preço2 < preço1) and (preço2 < preço3):\n",
        "    print(\"O segundo preço ({} reais) é o menor\".format(preço2))\n",
        "else:\n",
        "  print(\"O terceiro preço ({} reais) é o menor\".format(preço3))"
      ],
      "execution_count": null,
      "outputs": [
        {
          "output_type": "stream",
          "name": "stdout",
          "text": [
            "Digite o primeiro preço: 54.5\n",
            "Digite o segundo preço: 68.9\n",
            "Digite o terceiro preço: 55.3\n",
            "O primeiro preço (54.5 reais) é o menor.\n"
          ]
        }
      ]
    },
    {
      "cell_type": "markdown",
      "metadata": {
        "id": "wnzNpHXjKykv"
      },
      "source": [
        "**Faça um Programa que leia três números e mostre-os em ordem decrescente.**"
      ]
    },
    {
      "cell_type": "code",
      "metadata": {
        "id": "BswFXISGK8hH",
        "colab": {
          "base_uri": "https://localhost:8080/"
        },
        "outputId": "20577630-97b3-4463-cf8d-4561eea05cd5"
      },
      "source": [
        "lista = []\n",
        "n = int(input(\"Quantos elementos deve ter a lista a ser ordenada?: \"))\n",
        "\n",
        "for i in range(n):\n",
        "  lista.append(int(input(\"Digite um numero na lista: \")))\n",
        "\n",
        "lista_ordenada = sorted(lista, reverse=True)\n",
        "\n",
        "for i in lista_ordenada:\n",
        "  print(i, end=' ')"
      ],
      "execution_count": null,
      "outputs": [
        {
          "output_type": "stream",
          "name": "stdout",
          "text": [
            "Quantos elementos deve ter a lista a ser ordenada?: 3\n",
            "Digite um numero na lista: 5\n",
            "Digite um numero na lista: 4\n",
            "Digite um numero na lista: 9\n",
            "9 5 4 "
          ]
        }
      ]
    },
    {
      "cell_type": "markdown",
      "metadata": {
        "id": "dZgiN0p-K9Oz"
      },
      "source": [
        "**Faça um Programa que pergunte em que turno você estuda. Peça para digitar M-matutino ou V-Vespertino ou N- Noturno. Imprima a mensagem \"Bom Dia!\", \"Boa Tarde!\" ou \"Boa Noite!\" ou \"Valor Inválido!\", conforme o caso.**"
      ]
    },
    {
      "cell_type": "code",
      "metadata": {
        "id": "m53GR8H7LA29",
        "colab": {
          "base_uri": "https://localhost:8080/"
        },
        "outputId": "d7dd4b68-643e-4bc4-e548-4b1ad5fa8a45"
      },
      "source": [
        "turno = input(\"Digite o turno que você estuda (M - matutino, V - Vespertino ou N - Noturno): \").upper()\n",
        "if turno == \"M\":\n",
        "  print(\"Bom dia!\")\n",
        "elif turno == \"V\":\n",
        "  print(\"Boa tarde!\")\n",
        "elif turno == \"N\":\n",
        "  print(\"Boa noite!\")\n",
        "else:\n",
        "  print(\"Valor Inválido!\")"
      ],
      "execution_count": null,
      "outputs": [
        {
          "output_type": "stream",
          "name": "stdout",
          "text": [
            "Digite o turno que você estuda (M - matutino, V - Vespertino ou N - Noturno): x\n",
            "Valor Inválido!\n"
          ]
        }
      ]
    },
    {
      "cell_type": "markdown",
      "metadata": {
        "id": "X8zxnsKeLBVL"
      },
      "source": [
        "**As Organizações Tabajara resolveram dar um aumento de salário aos seus colaboradores e lhe contraram para desenvolver o programa que calculará os reajustes.**\n",
        "\n",
        "**Faça um programa que recebe o salário de um colaborador e o reajuste segundo o seguinte critério, baseado no salário atual:**\n",
        "\n",
        "1. salários até 280,00 (incluindo): aumento de 20%\n",
        "\n",
        "2. salários entre 280,00 e 700,00: aumento de 15%\n",
        "\n",
        "3. salários entre 700,00 e 1500,00: aumento de 10%\n",
        "\n",
        "4. salários de R$ 1500,00 em diante: aumento de 5% Após o aumento ser realizado, informe na tela:\n",
        "\n",
        "- salário antes do reajuste;\n",
        "- percentual de aumento aplicado;\n",
        "- valor do aumento;\n",
        "- novo salário, após o aumento.\n"
      ]
    },
    {
      "cell_type": "code",
      "metadata": {
        "id": "UifAoSNjLbL3",
        "colab": {
          "base_uri": "https://localhost:8080/"
        },
        "outputId": "c2a70c22-ca40-44ac-adce-72d3817653ad"
      },
      "source": [
        "salario = float(input(\"Digite seu salário em reais: \"))\n",
        "if salario >= 1500:\n",
        "  print(\"Você possui um salário de {} reais antes do reajuste\".format(salario))\n",
        "  print(\"Após o reajuste de 5%, seu salário novo é de {} reais\".format(salario + (salario*0.05)))\n",
        "elif (salario < 1500) and (salario >= 700):\n",
        "  print(\"Você possui um salário de {} reais antes do reajuste\".format(salario))\n",
        "  print(\"Após o reajuste de 10%, seu salário novo é de {} reais\".format(salario + (salario*0.1)))\n",
        "elif (salario < 700) and (salario > 280):\n",
        "  print(\"Você possui um salário de {} reais antes do reajuste\".format(salario))\n",
        "  print(\"Após o reajuste de 15%, seu salário novo é de {} reais\".format(salario + (salario*0.15)))\n",
        "else:\n",
        "  print(\"Você possui um salário de {} reais antes do reajuste\".format(salario))\n",
        "  print(\"Após o reajuste de 20%, seu salário novo é de {} reais\".format(salario + (salario*0.2)))"
      ],
      "execution_count": null,
      "outputs": [
        {
          "output_type": "stream",
          "name": "stdout",
          "text": [
            "Digite seu salário em reais: 150\n",
            "Você possui um salário de 150.0 reais antes do reajuste\n",
            "Após o reajuste de 20%, seu salário novo é de 180.0 reais\n"
          ]
        }
      ]
    },
    {
      "cell_type": "markdown",
      "metadata": {
        "id": "iP1kUENOMgsL"
      },
      "source": [
        "**Faça um programa para o cálculo de uma folha de pagamento, sabendo que os descontos são do Imposto de Renda, que depende do salário bruto (conforme tabela abaixo) e 3% para o Sindicato e que o FGTS corresponde a 11% do Salário Bruto, mas não é descontado (é a empresa que deposita). O Salário Líquido corresponde ao Salário Bruto menos os descontos. O programa deverá pedir ao usuário o valor da sua hora e a quantidade de horas trabalhadas no mês.**\n",
        "\n",
        "Desconto do IR:\n",
        "\n",
        "1. Salário Bruto até 900 (inclusive) - isento\n",
        "\n",
        "2. Salário Bruto até 1500 (inclusive) - desconto de 5%\n",
        "\n",
        "3. Salário Bruto até 2500 (inclusive) - desconto de 10%\n",
        "\n",
        "4. Salário Bruto acima de 2500 - desconto de 20% Imprima na tela as informações, dispostas conforme o exemplo abaixo. No exemplo o valor da hora é 5 e a quantidade de hora é 220.\n",
        "\n",
        "*Exemplo:*\n",
        "```\n",
        "Salário Bruto: (5 * 220)          : R$ 1100,00\n",
        "  (-) IR (5%)                     : R$   55,00  \n",
        "  (-) INSS ( 10%)                 : R$  110,00\n",
        "  FGTS (11%)                      : R$  121,00\n",
        "  Total de descontos              : R$  165,00\n",
        "  Salário Liquido                 : R$  935,00\n",
        "\n",
        "```\n",
        "\n"
      ]
    },
    {
      "cell_type": "code",
      "metadata": {
        "id": "Wq6u_3SSM4pa",
        "colab": {
          "base_uri": "https://localhost:8080/"
        },
        "outputId": "32e3ab33-8072-491e-c4ea-75114feeee03"
      },
      "source": [
        "salario_por_hora = int(input(\"Quanto você ganha por hora?: \"))\n",
        "horas = int(input(\"Quantas horas você trabalha por mês?: \"))\n",
        "salario_bruto = salario_por_hora * horas\n",
        "\n",
        "if salario_bruto > 2500:\n",
        "  print(\"Salário Bruto: ({} * {}) :    R$ {},00\".format(salario_por_hora, horas, salario_bruto))\n",
        "  print(\"(-) IR (20%)             :    R$ {},00\".format(int(salario_bruto* 0.2)))  \n",
        "  print(\"(-) INSS (10%)           :    R$ {},00\".format(int(salario_bruto* 0.10)))\n",
        "  print(\"FGTS (11%)               :    R$ {},00\".format(int(salario_bruto* 0.11)))\n",
        "  print(\"Total de descontos       :    R$ {},00\".format(int(salario_bruto * 0.2 + salario_bruto * 0.10))) \n",
        "  print(\"Salário Liquido          :    R$ {},00\".format(int(salario_bruto - (salario_bruto * 0.2) - (salario_bruto * 0.10))))\n",
        "\n",
        "elif (salario_bruto < 2500) and (salario_bruto > 1500):\n",
        "  print(\"Salário Bruto: ({} * {}) :    R$ {},00\".format(salario_por_hora, horas, salario_bruto))\n",
        "  print(\"(-) IR (10%)             :    R$ {},00\".format(int(salario_bruto * 0.1)))  \n",
        "  print(\"(-) INSS (10%)           :    R$ {},00\".format(int(salario_bruto * 0.10)))\n",
        "  print(\"FGTS (11%)               :    R$ {},00\".format(int(salario_bruto * 0.11)))\n",
        "  print(\"Total de descontos       :    R$ {},00\".format(int(salario_bruto * 0.1 + salario_bruto * 0.10))) \n",
        "  print(\"Salário Liquido          :    R$ {},00\".format(int(salario_bruto - (salario_bruto * 0.1) - (salario_bruto * 0.10))))\n",
        "\n",
        "elif (salario_bruto < 1500) and (salario_bruto > 900):\n",
        "  print(\"Salário Bruto: ({} * {}) :    R$ {},00\".format(salario_por_hora, horas, salario_bruto))\n",
        "  print(\"(-) IR (5%)              :    R$ {},00\".format(int(salario_bruto * 0.05)))  \n",
        "  print(\"(-) INSS (10%)           :    R$ {},00\".format(int(salario_bruto * 0.10)))\n",
        "  print(\"FGTS (11%)               :    R$ {},00\".format(int(salario_bruto * 0.11)))\n",
        "  print(\"Total de descontos       :    R$ {},00\".format(int(salario_bruto * 0.05 + salario_bruto * 0.10))) \n",
        "  print(\"Salário Liquido          :    R$ {},00\".format(int(salario_bruto - (salario_bruto * 0.05) - (salario_bruto * 0.10))))\n",
        "else:\n",
        "  print(\"Salário Bruto: ({} * {}) :    R$ {},00\".format(salario_por_hora, horas, salario_bruto))\n",
        "  print(\"(-) IR (isento)          :    R$ {},00\".format(0))  \n",
        "  print(\"(-) INSS (10%)           :    R$ {},00\".format(int(salario_bruto* 0.10)))\n",
        "  print(\"FGTS (11%)               :    R$ {},00\".format(int(salario_bruto* 0.11)))\n",
        "  print(\"Total de descontos       :    R$ {},00\".format(int(salario_bruto* 0.10))) \n",
        "  print(\"Salário Liquido          :    R$ {},00\".format(int(salario_bruto - (salario_bruto*0.10))))"
      ],
      "execution_count": 10,
      "outputs": [
        {
          "output_type": "stream",
          "name": "stdout",
          "text": [
            "Quanto você ganha por hora?: 5\n",
            "Quantas horas você trabalha por mês?: 20\n",
            "Salário Bruto: (5 * 20) :    R$ 100,00\n",
            "(-) IR (isento)          :    R$ 0,00\n",
            "(-) INSS (10%)           :    R$ 10,00\n",
            "FGTS (11%)               :    R$ 11,00\n",
            "Total de descontos       :    R$ 10,00\n",
            "Salário Liquido          :    R$ 90,00\n"
          ]
        }
      ]
    },
    {
      "cell_type": "markdown",
      "metadata": {
        "id": "64n0wAXxNiUr"
      },
      "source": [
        "**Faça um Programa que leia um número e exiba o dia correspondente da semana. (1-Domingo, 2- Segunda, etc.), se digitar outro valor deve aparecer valor inválido.**"
      ]
    },
    {
      "cell_type": "code",
      "metadata": {
        "id": "yhH7ivq6NoQW",
        "colab": {
          "base_uri": "https://localhost:8080/"
        },
        "outputId": "659aeedb-ce4c-4389-c254-4a2c27499b83"
      },
      "source": [
        "dias_da_semana = {1:\"Domingo\",\n",
        "                  2: \"Segunda\",\n",
        "                  3: \"Terça\",\n",
        "                  4: \"Quarta\",\n",
        "                  5: \"Quinta\",\n",
        "                  6: \"Sexta\",\n",
        "                  7: \"Sábado\"}\n",
        "numero = int(input(\"Digite um número que eu te retorno um dia da semana!: \"))\n",
        "if numero in dias_da_semana.keys():\n",
        "  print(\"O dia da semana é {}!\".format(dias_da_semana[numero]))\n",
        "else:\n",
        "  print(\"Valor inválido!\")"
      ],
      "execution_count": 20,
      "outputs": [
        {
          "output_type": "stream",
          "name": "stdout",
          "text": [
            "Digite um número que eu te retorno um dia da semana!: 8\n",
            "Valor inválido!\n"
          ]
        }
      ]
    },
    {
      "cell_type": "markdown",
      "metadata": {
        "id": "YF4LUV_GNpzj"
      },
      "source": [
        "\n",
        "**Faça um programa que lê as duas notas parciais obtidas por um aluno numa disciplina ao longo de um semestre, e calcule a sua média. A atribuição de conceitos obedece à tabela abaixo:**\n",
        "\n",
        "```  \n",
        "Média de Aproveitamento  Conceito\n",
        "  Entre 9.0 e 10.0        A\n",
        "  Entre 7.5 e 9.0         B\n",
        "  Entre 6.0 e 7.5         C\n",
        "  Entre 4.0 e 6.0         D\n",
        "  Entre 4.0 e zero        E\n",
        "```\n",
        "\n",
        "*O algoritmo deve mostrar na tela as notas, a média, o conceito correspondente e a mensagem “APROVADO” se o conceito for A, B ou C ou “REPROVADO” se o conceito for D ou E.*"
      ]
    },
    {
      "cell_type": "code",
      "metadata": {
        "id": "vYrbdnTHN5Wp",
        "colab": {
          "base_uri": "https://localhost:8080/"
        },
        "outputId": "5f8b7fc1-b164-49e6-ea1a-a8e34272b912"
      },
      "source": [
        "from statistics import mean\n",
        "nota_1 = int(input(\"Digite a primeira nota: \"))\n",
        "nota_2 = int(input(\"Digite a segunda nota: \"))\n",
        "notas = [nota_1, nota_2]\n",
        "media = statistics.mean(notas)\n",
        "\n",
        "if (media >= 9) and (media <= 10):\n",
        "  print(\"Suas notas foram {} e {}, com média {} e APROVADO com conceito A\".format(nota_1, nota_2, media))\n",
        "\n",
        "elif (media >= 7.5) and (media < 9):\n",
        "  print(\"Suas notas foram {} e {}, com média {} e APROVADO com conceito B\".format(nota_1, nota_2, media))\n",
        "\n",
        "elif (media >= 6) and (media < 7.5):\n",
        "  print(\"Suas notas foram {} e {}, com média {} e APROVADO com conceito C\".format(nota_1, nota_2, media))\n",
        "\n",
        "elif (media >= 4) and (media < 6):\n",
        "  print(\"Suas notas foram {} e {}, com média {} e REPROVADO com conceito D\".format(nota_1, nota_2, media))\n",
        "\n",
        "else:\n",
        "  print(\"Suas notas foram {} e {}, com média {} e REPROVADO com conceito E\".format(nota_1, nota_2, media))    "
      ],
      "execution_count": 34,
      "outputs": [
        {
          "output_type": "stream",
          "name": "stdout",
          "text": [
            "Digite a primeira nota: 0\n",
            "Digite a segunda nota: 0\n",
            "Suas notas foram 0 e 0, com média 0 e REPROVADO com conceito E\n"
          ]
        }
      ]
    },
    {
      "cell_type": "markdown",
      "metadata": {
        "id": "HOYZSQ3cN7Ge"
      },
      "source": [
        "**Faça um Programa que peça os 3 lados de um triângulo. O programa deverá informar se os valores podem ser um triângulo. Indique, caso os lados formem um triângulo, se o mesmo é: equilátero, isósceles ou escaleno.**\n",
        "\n",
        "**Dicas:**\n",
        "1. Três lados formam um triângulo quando a soma de quaisquer dois lados for maior que o terceiro;\n",
        "\n",
        "2. Triângulo Equilátero: três lados iguais;\n",
        "\n",
        "3. Triângulo Isósceles: quaisquer dois lados iguais;\n",
        "\n",
        "4. Triângulo Escaleno: três lados diferentes;"
      ]
    },
    {
      "cell_type": "code",
      "metadata": {
        "id": "akr8zFWaOIV6",
        "colab": {
          "base_uri": "https://localhost:8080/"
        },
        "outputId": "ddefd71e-8e58-4969-bfa1-5985fedc4748"
      },
      "source": [
        "A = int(input(\"Digite o primeiro lado do triângulo: \"))\n",
        "B = int(input(\"Digite o segundo lado do triângulo: \"))\n",
        "C = int(input(\"Digite o terceiro lado do triangulo: \"))\n",
        "\n",
        "if ((A + B) < C) or ((A + C) < B) or ((C + B) < A):\n",
        "  print(\"Esses lados não formam um triangulo\")\n",
        "elif (A == B) and (B == C) and (A == C):\n",
        "  print(\"Esse é um triangulo equilátero!\")\n",
        "elif  (A == B) or (B == C) or (A == C):\n",
        "  print(\"Esse é um triangulo isósceles!\")\n",
        "else:\n",
        "  print(\"Esse é um triangulo escaleno\")"
      ],
      "execution_count": 43,
      "outputs": [
        {
          "output_type": "stream",
          "name": "stdout",
          "text": [
            "Digite o primeiro lado do triângulo: 100\n",
            "Digite o segundo lado do triângulo: 1\n",
            "Digite o terceiro lado do triangulo: 8\n",
            "Esses lados não formam um triangulo\n"
          ]
        }
      ]
    },
    {
      "cell_type": "markdown",
      "metadata": {
        "id": "7qb30_aDOXQV"
      },
      "source": [
        "**Faça um programa que calcule as raízes de uma equação do segundo grau, na forma ax2 + bx + c. O programa deverá pedir os valores de a, b e c e fazer as consistências, informando ao usuário nas seguintes situações:**\n",
        "\n",
        "1. Se o usuário informar o valor de A igual a zero, a equação não é do segundo grau e o programa não deve fazer pedir os demais valores, sendo encerrado;\n",
        "2. Se o delta calculado for negativo, a equação não possui raizes reais. Informe ao usuário e encerre o programa;\n",
        "3. Se o delta calculado for igual a zero a equação possui apenas uma raiz real; informe-a ao usuário;\n",
        "4. Se o delta for positivo, a equação possui duas raiz reais; informe-as ao usuário;\n"
      ]
    },
    {
      "cell_type": "code",
      "metadata": {
        "id": "tmqHR-FGOlHx",
        "colab": {
          "base_uri": "https://localhost:8080/"
        },
        "outputId": "02317b45-cdb9-4614-ab91-b92ec8ed342e"
      },
      "source": [
        "import math\n",
        "A = int(input(\"Digite o primeiro valor: \"))\n",
        "if A == 0:\n",
        "  print(\"A equação informada não é de segundo grau\")\n",
        "else:\n",
        "  B = int(input(\"Digite o segundo valor: \"))\n",
        "  C = int(input(\"Digite o terceiro valor: \"))\n",
        "  delta = (B**2) - (4 * A * C)\n",
        "  if delta < 0:\n",
        "    print(\"A equação não possui raízes reais.\")\n",
        "  elif delta == 0:\n",
        "    raiz = (-B + math.sqrt(delta)) / (2 * A)\n",
        "    print(\"A raiz da equação é {}\".format(raiz))\n",
        "  else:\n",
        "    raiz_A = (-B + math.sqrt(delta)) / (2 * A)\n",
        "    raiz_B = (-B - math.sqrt(delta)) / (2 * A)\n",
        "    print(\"A primeira raiz da equação é {} e a segunda raiz da equação é {}\".format(raiz_A, raiz_B))"
      ],
      "execution_count": 68,
      "outputs": [
        {
          "output_type": "stream",
          "name": "stdout",
          "text": [
            "Digite o primeiro valor: 10\n",
            "Digite o segundo valor: 30\n",
            "Digite o terceiro valor: 20\n",
            "A primeira raiz da equação é -1.0 e a segunda raiz da equação é -2.0\n"
          ]
        }
      ]
    },
    {
      "cell_type": "markdown",
      "metadata": {
        "id": "KnFPLrs6OK-U"
      },
      "source": [
        "**Faça um Programa que peça um número correspondente a um determinado ano e em seguida informe se este ano é ou não bissexto.**\n",
        "\n",
        "Para determinar se um ano é bissexto, execute estas etapas:\n",
        "\n",
        "1. Se o ano for uniformemente divisível por 4, vá para a etapa 2. Caso contrário, vá para a etapa 5.\n",
        "2. Se o ano for uniformemente divisível por 100, vá para a etapa 3. Caso contrário, vá para a etapa 4.\n",
        "3. Se o ano for uniformemente divisível por 400, vá para a etapa 4. Caso contrário, vá para a etapa 5.\n",
        "4. O ano é bissexto (tem 366 dias).\n",
        "5. O ano não é um ano bissexto (tem 365 dias)."
      ]
    },
    {
      "cell_type": "code",
      "metadata": {
        "id": "8fGApHJDOovT",
        "colab": {
          "base_uri": "https://localhost:8080/"
        },
        "outputId": "cf432649-a03a-4c41-9587-7d399fd1ff76"
      },
      "source": [
        "ano = input(\"Digite um ano de 4 digitos para determinar se ele é bissexto: \")\n",
        "\n",
        "if ano[2] == \"0\" and ano[3] == \"0\":\n",
        "  if int(ano) % 400 == 0:\n",
        "    print(\"O ano {} é bissexto!\".format(ano))\n",
        "  else:\n",
        "    print(\"O ano {} NÃO é bissexto!\".format(ano))\n",
        "\n",
        "elif int(ano) % 4 == 0:\n",
        "  print(\"O ano {} é bissexto!\".format(ano))\n",
        "else:\n",
        "    print(\"O ano {} NÃO é bissexto!\".format(ano))"
      ],
      "execution_count": 79,
      "outputs": [
        {
          "output_type": "stream",
          "name": "stdout",
          "text": [
            "Digite um ano de 4 digitos para determinar se ele é bissexto: 1988\n",
            "O ano 1988 é bissexto!\n"
          ]
        }
      ]
    },
    {
      "cell_type": "markdown",
      "metadata": {
        "id": "n7hGQuDdOqlj"
      },
      "source": [
        "**Faça um Programa que peça uma data no formato dd/mm/aaaa e determine se a mesma é uma data válida.**\n"
      ]
    },
    {
      "cell_type": "code",
      "metadata": {
        "id": "iNgmj-yVOvFW",
        "colab": {
          "base_uri": "https://localhost:8080/"
        },
        "outputId": "e2820015-b6ba-42bb-d77d-bed880d0aeca"
      },
      "source": [
        "data = input(\"Escreva uma data no formato: dd/mm/aaaa: \")\n",
        "digitos = data.rsplit(\"/\")\n",
        "if digitos[0].isdigit() and digitos[1].isdigit() and digitos[2].isdigit():\n",
        "  if int(digitos[0]) < 0 or int(digitos[0]) > 31:\n",
        "    print(\"A data digitada não é válida\")\n",
        "  elif int(digitos[1]) < 0 or int(digitos[1]) > 12:\n",
        "    print(\"A data digitada não é válida\")\n",
        "  elif len(digitos[2]) != 4:\n",
        "    print(\"A data digitada não é válida\")\n",
        "  else:\n",
        "    print(\"A data digitada é {} e ela é válida\".format(data))\n",
        "else:\n",
        "  print(\"A data digitada não é válida\")"
      ],
      "execution_count": 91,
      "outputs": [
        {
          "output_type": "stream",
          "name": "stdout",
          "text": [
            "Escreva uma data no formato: dd/mm/aaaa: 01/06/1998\n",
            "A data digitada é 01/06/1998 e ela é válida\n"
          ]
        }
      ]
    },
    {
      "cell_type": "markdown",
      "metadata": {
        "id": "Wqn9Zv1dOv2x"
      },
      "source": [
        "**Faça um Programa que leia um número inteiro menor que 1000 e imprima a quantidade de centenas, dezenas e unidades do mesmo.**\n",
        "\n",
        "**Observando os termos no plural a colocação do \"e\", da vírgula entre outros.**\n",
        "\n",
        "Exemplo:\n",
        "\n",
        "\n",
        "```\n",
        "326 = 3 centenas, 2 dezenas e 6 unidades\n",
        "\n",
        "12 = 1 dezena e 2 unidades Testar com: 326, 300, 100, 320, 310,305, 301, 101, 311, 111, 25, 20, 10, 21, 11, 1, 7 e 16\n",
        "\n",
        "```\n",
        "\n",
        "\n",
        "\n"
      ]
    },
    {
      "cell_type": "code",
      "metadata": {
        "id": "LY1evJaKPKlL",
        "colab": {
          "base_uri": "https://localhost:8080/"
        },
        "outputId": "65362e39-5bf7-446f-c4f0-8043d1cd6fa3"
      },
      "source": [
        "num = input(\"Determine um numero inteiro menor que 1000: \")\n",
        "numeros = list(num)\n",
        "if len(numeros) == 3:\n",
        "  print(\"{} centena, {} dezenas, {} unidades\".format(numeros[0], numeros[1], numeros[2]))\n",
        "elif len(numeros) == 2:\n",
        "  print(\"{} dezenas, {} unidades\".format(numeros[0], numeros[1]))\n",
        "elif len(numeros) == 1:\n",
        "  print(\"{} unidades\".format(numeros[0]))\n",
        "else:\n",
        "  print(\"o numero digitado está fora dos parâmetros\")"
      ],
      "execution_count": 97,
      "outputs": [
        {
          "output_type": "stream",
          "name": "stdout",
          "text": [
            "Determine um numero inteiro menor que 1000: 25\n",
            "2 dezenas, 5 unidades\n"
          ]
        }
      ]
    }
  ]
}